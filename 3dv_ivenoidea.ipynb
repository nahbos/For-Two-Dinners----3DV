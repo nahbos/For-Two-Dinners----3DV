{
  "nbformat": 4,
  "nbformat_minor": 0,
  "metadata": {
    "colab": {
      "provenance": [],
      "authorship_tag": "ABX9TyNJGC2447dsFBUw9LejonZT",
      "include_colab_link": true
    },
    "kernelspec": {
      "name": "python3",
      "display_name": "Python 3"
    },
    "language_info": {
      "name": "python"
    }
  },
  "cells": [
    {
      "cell_type": "markdown",
      "metadata": {
        "id": "view-in-github",
        "colab_type": "text"
      },
      "source": [
        "<a href=\"https://colab.research.google.com/github/nahbos/For-Two-Dinners----3DV/blob/main/3dv_ivenoidea.ipynb\" target=\"_parent\"><img src=\"https://colab.research.google.com/assets/colab-badge.svg\" alt=\"Open In Colab\"/></a>"
      ]
    },
    {
      "cell_type": "markdown",
      "source": [
        "Copyright @nahbos\n",
        "\n",
        "2023-13-7\n",
        "\n",
        "Harki Copy Kone Bere Jahanam ))\n"
      ],
      "metadata": {
        "id": "WIas5XqfVytF"
      }
    },
    {
      "cell_type": "markdown",
      "source": [
        "import libraries .."
      ],
      "metadata": {
        "id": "234_QDUiWd3W"
      }
    },
    {
      "cell_type": "code",
      "source": [
        "# !pip install open3d"
      ],
      "metadata": {
        "id": "LjkxVLdxWsZx"
      },
      "execution_count": 1,
      "outputs": []
    },
    {
      "cell_type": "code",
      "source": [
        "# !pip install icp"
      ],
      "metadata": {
        "id": "onthQdb0ztx5"
      },
      "execution_count": 2,
      "outputs": []
    },
    {
      "cell_type": "code",
      "execution_count": 3,
      "metadata": {
        "id": "WHn0DN_8VYE7"
      },
      "outputs": [],
      "source": [
        "import open3d as o3d\n",
        "from open3d import *\n",
        "import numpy as np\n",
        "import struct\n",
        "from natsort import natsorted\n",
        "import os\n",
        "import time\n",
        "from tqdm import tqdm\n",
        "import copy\n",
        "from matplotlib import pyplot as plt"
      ]
    },
    {
      "cell_type": "markdown",
      "source": [
        "# Data preparation"
      ],
      "metadata": {
        "id": "oVrAPBYof_27"
      }
    },
    {
      "cell_type": "markdown",
      "source": [
        "loading dataset .."
      ],
      "metadata": {
        "id": "TW-ORs5rW6XH"
      }
    },
    {
      "cell_type": "code",
      "source": [
        "from google.colab import drive\n",
        "drive.mount('/content/drive')"
      ],
      "metadata": {
        "colab": {
          "base_uri": "https://localhost:8080/"
        },
        "id": "PKq_KFwvao37",
        "outputId": "d32a2888-fbf8-46a0-dc9f-1a38ee7b44cb"
      },
      "execution_count": 4,
      "outputs": [
        {
          "output_type": "stream",
          "name": "stdout",
          "text": [
            "Drive already mounted at /content/drive; to attempt to forcibly remount, call drive.mount(\"/content/drive\", force_remount=True).\n"
          ]
        }
      ]
    },
    {
      "cell_type": "code",
      "source": [
        "!wget -nc https://raw.githubusercontent.com/nahbos/For-Two-Dinners----3DV/main/gt_pose_00.txt"
      ],
      "metadata": {
        "colab": {
          "base_uri": "https://localhost:8080/"
        },
        "id": "ORG3-lPAa8rK",
        "outputId": "030f4e56-4095-4c9c-8088-734935ef6272"
      },
      "execution_count": 25,
      "outputs": [
        {
          "output_type": "stream",
          "name": "stdout",
          "text": [
            "--2023-07-13 13:21:44--  https://raw.githubusercontent.com/nahbos/For-Two-Dinners----3DV/main/gt_pose_00.txt\n",
            "Resolving raw.githubusercontent.com (raw.githubusercontent.com)... 185.199.108.133, 185.199.109.133, 185.199.110.133, ...\n",
            "Connecting to raw.githubusercontent.com (raw.githubusercontent.com)|185.199.108.133|:443... connected.\n",
            "HTTP request sent, awaiting response... 200 OK\n",
            "Length: 728871 (712K) [text/plain]\n",
            "Saving to: ‘gt_pose_00.txt’\n",
            "\n",
            "\rgt_pose_00.txt        0%[                    ]       0  --.-KB/s               \rgt_pose_00.txt      100%[===================>] 711.79K  --.-KB/s    in 0.04s   \n",
            "\n",
            "2023-07-13 13:21:44 (16.9 MB/s) - ‘gt_pose_00.txt’ saved [728871/728871]\n",
            "\n"
          ]
        }
      ]
    },
    {
      "cell_type": "code",
      "source": [
        "# From the file vis.py\n",
        "\n",
        "def convert_kitti_bin_to_pcd(binFilePath):\n",
        "    # Load binary point cloud\n",
        "    bin_pcd = np.fromfile(binFilePath, dtype=np.float32)\n",
        "\n",
        "    # Reshape and drop reflection values\n",
        "    points = bin_pcd.reshape((-1, 4))[:, 0:3]\n",
        "    pcd = o3d.geometry.PointCloud()\n",
        "    pcd.points = o3d.utility.Vector3dVector(points)\n",
        "    # Convert to Open3D point cloud\n",
        "    return pcd\n",
        "\n",
        "input_dir = \"/content/drive/MyDrive/00/\"\n",
        "input_files = natsorted(os.listdir(input_dir))"
      ],
      "metadata": {
        "id": "3PGJkgTpVuZL"
      },
      "execution_count": 6,
      "outputs": []
    },
    {
      "cell_type": "code",
      "source": [
        "pcd_list = []\n",
        "\n",
        "for ele in tqdm(input_files):\n",
        "  pcd = convert_kitti_bin_to_pcd(os.path.join(input_dir, input_files[0]))\n",
        "  pcd_list.append(np.asanyarray(pcd.points))\n",
        "\n",
        "pcd_list = np.array(pcd_list)"
      ],
      "metadata": {
        "colab": {
          "base_uri": "https://localhost:8080/"
        },
        "id": "I8JVTQKDVuUv",
        "outputId": "f1b63291-2fc8-4cd4-b9f6-f1ca7d178867"
      },
      "execution_count": 7,
      "outputs": [
        {
          "output_type": "stream",
          "name": "stderr",
          "text": [
            "100%|██████████| 142/142 [00:34<00:00,  4.17it/s]\n"
          ]
        }
      ]
    },
    {
      "cell_type": "code",
      "source": [
        "pcd_list.shape"
      ],
      "metadata": {
        "colab": {
          "base_uri": "https://localhost:8080/"
        },
        "id": "CiXj_v-4VuRP",
        "outputId": "c459b643-262b-4965-a3e5-d7860990636d"
      },
      "execution_count": 8,
      "outputs": [
        {
          "output_type": "execute_result",
          "data": {
            "text/plain": [
              "(142, 124668, 3)"
            ]
          },
          "metadata": {},
          "execution_count": 8
        }
      ]
    },
    {
      "cell_type": "code",
      "source": [],
      "metadata": {
        "id": "29gJuMyOVuMr"
      },
      "execution_count": 8,
      "outputs": []
    },
    {
      "cell_type": "markdown",
      "source": [
        "# Using a github file called icp.py\n"
      ],
      "metadata": {
        "id": "-Ifvkccu-b4j"
      }
    },
    {
      "cell_type": "code",
      "source": [
        "import numpy as np\n",
        "from sklearn.neighbors import NearestNeighbors\n",
        "\n",
        "\n",
        "def best_fit_transform(A, B):\n",
        "    '''\n",
        "    Calculates the least-squares best-fit transform that maps corresponding points A to B in m spatial dimensions\n",
        "    Input:\n",
        "      A: Nxm numpy array of corresponding points\n",
        "      B: Nxm numpy array of corresponding points\n",
        "    Returns:\n",
        "      T: (m+1)x(m+1) homogeneous transformation matrix that maps A on to B\n",
        "      R: mxm rotation matrix\n",
        "      t: mx1 translation vector\n",
        "    '''\n",
        "\n",
        "    assert A.shape == B.shape\n",
        "\n",
        "    # get number of dimensions\n",
        "    m = A.shape[1]\n",
        "\n",
        "    # translate points to their centroids\n",
        "    centroid_A = np.mean(A, axis=0)\n",
        "    centroid_B = np.mean(B, axis=0)\n",
        "    AA = A - centroid_A\n",
        "    BB = B - centroid_B\n",
        "\n",
        "    # rotation matrix\n",
        "    H = np.dot(AA.T, BB)\n",
        "    U, S, Vt = np.linalg.svd(H)\n",
        "    R = np.dot(Vt.T, U.T)\n",
        "\n",
        "    # special reflection case\n",
        "    if np.linalg.det(R) < 0:\n",
        "       Vt[m-1,:] *= -1\n",
        "       R = np.dot(Vt.T, U.T)\n",
        "\n",
        "    # translation\n",
        "    t = centroid_B.T - np.dot(R,centroid_A.T)\n",
        "\n",
        "    # homogeneous transformation\n",
        "    T = np.identity(m+1)\n",
        "    T[:m, :m] = R\n",
        "    T[:m, m] = t\n",
        "\n",
        "    return T, R, t\n",
        "\n",
        "\n",
        "def nearest_neighbor(src, dst):\n",
        "    '''\n",
        "    Find the nearest (Euclidean) neighbor in dst for each point in src\n",
        "    Input:\n",
        "        src: Nxm array of points\n",
        "        dst: Nxm array of points\n",
        "    Output:\n",
        "        distances: Euclidean distances of the nearest neighbor\n",
        "        indices: dst indices of the nearest neighbor\n",
        "    '''\n",
        "\n",
        "    assert src.shape == dst.shape\n",
        "\n",
        "    neigh = NearestNeighbors(n_neighbors=1)\n",
        "    neigh.fit(dst)\n",
        "    distances, indices = neigh.kneighbors(src, return_distance=True)\n",
        "    return distances.ravel(), indices.ravel()\n",
        "\n",
        "\n",
        "def icp(A, B, init_pose=None, max_iterations=20, tolerance=0.001):\n",
        "    '''\n",
        "    The Iterative Closest Point method: finds best-fit transform that maps points A on to points B\n",
        "    Input:\n",
        "        A: Nxm numpy array of source mD points\n",
        "        B: Nxm numpy array of destination mD point\n",
        "        init_pose: (m+1)x(m+1) homogeneous transformation\n",
        "        max_iterations: exit algorithm after max_iterations\n",
        "        tolerance: convergence criteria\n",
        "    Output:\n",
        "        T: final homogeneous transformation that maps A on to B\n",
        "        distances: Euclidean distances (errors) of the nearest neighbor\n",
        "        i: number of iterations to converge\n",
        "    '''\n",
        "\n",
        "    assert A.shape == B.shape\n",
        "\n",
        "    # get number of dimensions\n",
        "    m = A.shape[1]\n",
        "\n",
        "    # make points homogeneous, copy them to maintain the originals\n",
        "    src = np.ones((m+1,A.shape[0]))\n",
        "    dst = np.ones((m+1,B.shape[0]))\n",
        "    src[:m,:] = np.copy(A.T)\n",
        "    dst[:m,:] = np.copy(B.T)\n",
        "\n",
        "    # apply the initial pose estimation\n",
        "    if init_pose is not None:\n",
        "        src = np.dot(init_pose, src)\n",
        "\n",
        "    prev_error = 0\n",
        "\n",
        "    for i in range(max_iterations):\n",
        "        # find the nearest neighbors between the current source and destination points\n",
        "        distances, indices = nearest_neighbor(src[:m,:].T, dst[:m,:].T)\n",
        "\n",
        "        # compute the transformation between the current source and nearest destination points\n",
        "        T,_,_ = best_fit_transform(src[:m,:].T, dst[:m,indices].T)\n",
        "\n",
        "        # update the current source\n",
        "        src = np.dot(T, src)\n",
        "\n",
        "        # check error\n",
        "        mean_error = np.mean(distances)\n",
        "        if np.abs(prev_error - mean_error) < tolerance:\n",
        "            break\n",
        "        prev_error = mean_error\n",
        "\n",
        "    # calculate final transformation\n",
        "    T,_,_ = best_fit_transform(A, src[:m,:].T)\n",
        "\n",
        "    return T, distances, i"
      ],
      "metadata": {
        "id": "IQY0G1hB-bkg"
      },
      "execution_count": 9,
      "outputs": []
    },
    {
      "cell_type": "code",
      "source": [],
      "metadata": {
        "id": "h3oOftR2-biI"
      },
      "execution_count": 9,
      "outputs": []
    },
    {
      "cell_type": "code",
      "source": [],
      "metadata": {
        "id": "jCuRZrTg-bfX"
      },
      "execution_count": 9,
      "outputs": []
    },
    {
      "cell_type": "markdown",
      "source": [
        "# ICP"
      ],
      "metadata": {
        "id": "P9Pnc2kDf6gn"
      }
    },
    {
      "cell_type": "code",
      "source": [
        "def icpoint(pcd_list, threshold=0.00001):\n",
        "\n",
        "  map_ = []\n",
        "  transformations =[]\n",
        "\n",
        "  # getting open3d to display the video\n",
        "  vis = o3d.visualization.Visualizer()\n",
        "  vis.create_window()\n",
        "\n",
        "  for idx, ele in enumerate(tqdm(pcd_list)):\n",
        "    pcd = o3d.geometry.PointCloud()\n",
        "    pcd.points = o3d.utility.Vector3dVector(ele)\n",
        "    pcd = pcd.voxel_down_sample(voxel_size=0.1)\n",
        "    pcd_copy = copy.deepcopy(pcd)\n",
        "\n",
        "    if idx == 0:\n",
        "        transformations.append(np.eye(4))\n",
        "        map_ = np.array(pcd.points)\n",
        "        map_ = np.round(np.array(pcd.points),decimals=1)\n",
        "        map_ = np.unique(map_, axis=0)\n",
        "        continue\n",
        "\n",
        "    pcd_n1 = o3d.geometry.PointCloud()\n",
        "    pcd_n1.points = o3d.utility.Vector3dVector(pcd_list[idx-1])\n",
        "    pcd_n1 = pcd_n1.voxel_down_sample(voxel_size=0.1)\n",
        "    pcd_n1_cp = copy.deepcopy(pcd_n1)\n",
        "\n",
        "    pcd_p = np.asarray(pcd.points)\n",
        "    pcd_n1_p = np.asarray(pcd_n1.points)\n",
        "\n",
        "    _min_count = min(pcd_p.shape[0], pcd_n1_p.shape[0])\n",
        "\n",
        "    pcd_p = pcd_p[:_min_count]\n",
        "    pcd_n1_p = pcd_n1_p[:_min_count]\n",
        "\n",
        "    if idx == 1:\n",
        "        T, _, _ = icp(pcd_p, pcd_n1_p)\n",
        "        transformations.append(T)\n",
        "        continue\n",
        "\n",
        "    T, _, _ = icp(pcd_p, pcd_n1_p)\n",
        "    transformations.append(T)\n",
        "\n",
        "    for _ in range(len(transformations)-1, -1, -1):\n",
        "        pcd_copy.transform(transformations[_])\n",
        "\n",
        "    vis = o3d.visualization.Visualizer()\n",
        "    vis.create_window(visible=False)\n",
        "\n",
        "    map_ = np.concatenate([map_, np.array(pcd_copy.points)])\n",
        "    map_ = np.round(map_,decimals=1)\n",
        "    map_ = np.unique(map_,axis=0)\n",
        "\n",
        "    map_pcd = o3d.geometry.PointCloud()\n",
        "    map_pcd.points = o3d.utility.Vector3dVector(map_)\n",
        "    vis.add_geometry(map_pcd)\n",
        "    vis.poll_events()\n",
        "    vis.update_renderer()\n",
        "    # vis.capture_screen_image(\"./result.png\")\n",
        "\n",
        "  return map_, transformations"
      ],
      "metadata": {
        "id": "WA5mvNy6VuJh"
      },
      "execution_count": 10,
      "outputs": []
    },
    {
      "cell_type": "code",
      "source": [],
      "metadata": {
        "id": "uR4E5pFxHGRH"
      },
      "execution_count": 10,
      "outputs": []
    },
    {
      "cell_type": "code",
      "source": [
        "res = icpoint(pcd_list)"
      ],
      "metadata": {
        "colab": {
          "base_uri": "https://localhost:8080/"
        },
        "id": "ZJelgJ2TVuGF",
        "outputId": "91146c6c-b249-4097-bec8-acddc997085e"
      },
      "execution_count": 11,
      "outputs": [
        {
          "output_type": "stream",
          "name": "stdout",
          "text": [
            "\u001b[1;33m[Open3D WARNING] GLFW Error: X11: The DISPLAY environment variable is missing\u001b[0;m\n",
            "\u001b[1;33m[Open3D WARNING] Failed to initialize GLFW\u001b[0;m\n"
          ]
        },
        {
          "output_type": "stream",
          "name": "stderr",
          "text": [
            "  2%|▏         | 3/142 [00:00<00:51,  2.70it/s]"
          ]
        },
        {
          "output_type": "stream",
          "name": "stdout",
          "text": [
            "\u001b[1;33m[Open3D WARNING] GLFW Error: X11: The DISPLAY environment variable is missing\u001b[0;m\n",
            "\u001b[1;33m[Open3D WARNING] Failed to initialize GLFW\u001b[0;m\n",
            "\u001b[1;33m[Open3D WARNING] GLFW Error: X11: The DISPLAY environment variable is missing\u001b[0;m\n",
            "\u001b[1;33m[Open3D WARNING] Failed to initialize GLFW\u001b[0;m\n"
          ]
        },
        {
          "output_type": "stream",
          "name": "stderr",
          "text": [
            "\r  3%|▎         | 4/142 [00:01<01:00,  2.29it/s]"
          ]
        },
        {
          "output_type": "stream",
          "name": "stdout",
          "text": [
            "\u001b[1;33m[Open3D WARNING] GLFW Error: X11: The DISPLAY environment variable is missing\u001b[0;m\n",
            "\u001b[1;33m[Open3D WARNING] Failed to initialize GLFW\u001b[0;m\n"
          ]
        },
        {
          "output_type": "stream",
          "name": "stderr",
          "text": [
            "\r  4%|▎         | 5/142 [00:02<01:02,  2.17it/s]"
          ]
        },
        {
          "output_type": "stream",
          "name": "stdout",
          "text": [
            "\u001b[1;33m[Open3D WARNING] GLFW Error: X11: The DISPLAY environment variable is missing\u001b[0;m\n",
            "\u001b[1;33m[Open3D WARNING] Failed to initialize GLFW\u001b[0;m\n"
          ]
        },
        {
          "output_type": "stream",
          "name": "stderr",
          "text": [
            "\r  4%|▍         | 6/142 [00:02<01:06,  2.06it/s]"
          ]
        },
        {
          "output_type": "stream",
          "name": "stdout",
          "text": [
            "\u001b[1;33m[Open3D WARNING] GLFW Error: X11: The DISPLAY environment variable is missing\u001b[0;m\n",
            "\u001b[1;33m[Open3D WARNING] Failed to initialize GLFW\u001b[0;m\n"
          ]
        },
        {
          "output_type": "stream",
          "name": "stderr",
          "text": [
            "\r  5%|▍         | 7/142 [00:03<01:05,  2.05it/s]"
          ]
        },
        {
          "output_type": "stream",
          "name": "stdout",
          "text": [
            "\u001b[1;33m[Open3D WARNING] GLFW Error: X11: The DISPLAY environment variable is missing\u001b[0;m\n",
            "\u001b[1;33m[Open3D WARNING] Failed to initialize GLFW\u001b[0;m\n"
          ]
        },
        {
          "output_type": "stream",
          "name": "stderr",
          "text": [
            "\r  6%|▌         | 8/142 [00:03<01:05,  2.04it/s]"
          ]
        },
        {
          "output_type": "stream",
          "name": "stdout",
          "text": [
            "\u001b[1;33m[Open3D WARNING] GLFW Error: X11: The DISPLAY environment variable is missing\u001b[0;m\n",
            "\u001b[1;33m[Open3D WARNING] Failed to initialize GLFW\u001b[0;m\n"
          ]
        },
        {
          "output_type": "stream",
          "name": "stderr",
          "text": [
            "\r  6%|▋         | 9/142 [00:04<01:04,  2.06it/s]"
          ]
        },
        {
          "output_type": "stream",
          "name": "stdout",
          "text": [
            "\u001b[1;33m[Open3D WARNING] GLFW Error: X11: The DISPLAY environment variable is missing\u001b[0;m\n",
            "\u001b[1;33m[Open3D WARNING] Failed to initialize GLFW\u001b[0;m\n"
          ]
        },
        {
          "output_type": "stream",
          "name": "stderr",
          "text": [
            "\r  7%|▋         | 10/142 [00:04<01:03,  2.07it/s]"
          ]
        },
        {
          "output_type": "stream",
          "name": "stdout",
          "text": [
            "\u001b[1;33m[Open3D WARNING] GLFW Error: X11: The DISPLAY environment variable is missing\u001b[0;m\n",
            "\u001b[1;33m[Open3D WARNING] Failed to initialize GLFW\u001b[0;m\n"
          ]
        },
        {
          "output_type": "stream",
          "name": "stderr",
          "text": [
            "\r  8%|▊         | 11/142 [00:04<01:03,  2.06it/s]"
          ]
        },
        {
          "output_type": "stream",
          "name": "stdout",
          "text": [
            "\u001b[1;33m[Open3D WARNING] GLFW Error: X11: The DISPLAY environment variable is missing\u001b[0;m\n",
            "\u001b[1;33m[Open3D WARNING] Failed to initialize GLFW\u001b[0;m\n"
          ]
        },
        {
          "output_type": "stream",
          "name": "stderr",
          "text": [
            "\r  8%|▊         | 12/142 [00:05<01:04,  2.03it/s]"
          ]
        },
        {
          "output_type": "stream",
          "name": "stdout",
          "text": [
            "\u001b[1;33m[Open3D WARNING] GLFW Error: X11: The DISPLAY environment variable is missing\u001b[0;m\n",
            "\u001b[1;33m[Open3D WARNING] Failed to initialize GLFW\u001b[0;m\n"
          ]
        },
        {
          "output_type": "stream",
          "name": "stderr",
          "text": [
            "\r  9%|▉         | 13/142 [00:05<01:02,  2.05it/s]"
          ]
        },
        {
          "output_type": "stream",
          "name": "stdout",
          "text": [
            "\u001b[1;33m[Open3D WARNING] GLFW Error: X11: The DISPLAY environment variable is missing\u001b[0;m\n",
            "\u001b[1;33m[Open3D WARNING] Failed to initialize GLFW\u001b[0;m\n"
          ]
        },
        {
          "output_type": "stream",
          "name": "stderr",
          "text": [
            "\r 10%|▉         | 14/142 [00:06<01:03,  2.01it/s]"
          ]
        },
        {
          "output_type": "stream",
          "name": "stdout",
          "text": [
            "\u001b[1;33m[Open3D WARNING] GLFW Error: X11: The DISPLAY environment variable is missing\u001b[0;m\n",
            "\u001b[1;33m[Open3D WARNING] Failed to initialize GLFW\u001b[0;m\n"
          ]
        },
        {
          "output_type": "stream",
          "name": "stderr",
          "text": [
            "\r 11%|█         | 15/142 [00:07<01:09,  1.83it/s]"
          ]
        },
        {
          "output_type": "stream",
          "name": "stdout",
          "text": [
            "\u001b[1;33m[Open3D WARNING] GLFW Error: X11: The DISPLAY environment variable is missing\u001b[0;m\n",
            "\u001b[1;33m[Open3D WARNING] Failed to initialize GLFW\u001b[0;m\n"
          ]
        },
        {
          "output_type": "stream",
          "name": "stderr",
          "text": [
            "\r 11%|█▏        | 16/142 [00:07<01:17,  1.62it/s]"
          ]
        },
        {
          "output_type": "stream",
          "name": "stdout",
          "text": [
            "\u001b[1;33m[Open3D WARNING] GLFW Error: X11: The DISPLAY environment variable is missing\u001b[0;m\n",
            "\u001b[1;33m[Open3D WARNING] Failed to initialize GLFW\u001b[0;m\n"
          ]
        },
        {
          "output_type": "stream",
          "name": "stderr",
          "text": [
            "\r 12%|█▏        | 17/142 [00:08<01:23,  1.50it/s]"
          ]
        },
        {
          "output_type": "stream",
          "name": "stdout",
          "text": [
            "\u001b[1;33m[Open3D WARNING] GLFW Error: X11: The DISPLAY environment variable is missing\u001b[0;m\n",
            "\u001b[1;33m[Open3D WARNING] Failed to initialize GLFW\u001b[0;m\n"
          ]
        },
        {
          "output_type": "stream",
          "name": "stderr",
          "text": [
            "\r 13%|█▎        | 18/142 [00:09<01:26,  1.44it/s]"
          ]
        },
        {
          "output_type": "stream",
          "name": "stdout",
          "text": [
            "\u001b[1;33m[Open3D WARNING] GLFW Error: X11: The DISPLAY environment variable is missing\u001b[0;m\n",
            "\u001b[1;33m[Open3D WARNING] Failed to initialize GLFW\u001b[0;m\n"
          ]
        },
        {
          "output_type": "stream",
          "name": "stderr",
          "text": [
            "\r 13%|█▎        | 19/142 [00:10<01:27,  1.40it/s]"
          ]
        },
        {
          "output_type": "stream",
          "name": "stdout",
          "text": [
            "\u001b[1;33m[Open3D WARNING] GLFW Error: X11: The DISPLAY environment variable is missing\u001b[0;m\n",
            "\u001b[1;33m[Open3D WARNING] Failed to initialize GLFW\u001b[0;m\n"
          ]
        },
        {
          "output_type": "stream",
          "name": "stderr",
          "text": [
            "\r 14%|█▍        | 20/142 [00:11<01:29,  1.37it/s]"
          ]
        },
        {
          "output_type": "stream",
          "name": "stdout",
          "text": [
            "\u001b[1;33m[Open3D WARNING] GLFW Error: X11: The DISPLAY environment variable is missing\u001b[0;m\n",
            "\u001b[1;33m[Open3D WARNING] Failed to initialize GLFW\u001b[0;m\n"
          ]
        },
        {
          "output_type": "stream",
          "name": "stderr",
          "text": [
            "\r 15%|█▍        | 21/142 [00:11<01:28,  1.36it/s]"
          ]
        },
        {
          "output_type": "stream",
          "name": "stdout",
          "text": [
            "\u001b[1;33m[Open3D WARNING] GLFW Error: X11: The DISPLAY environment variable is missing\u001b[0;m\n",
            "\u001b[1;33m[Open3D WARNING] Failed to initialize GLFW\u001b[0;m\n"
          ]
        },
        {
          "output_type": "stream",
          "name": "stderr",
          "text": [
            " 16%|█▌        | 23/142 [00:13<01:22,  1.45it/s]"
          ]
        },
        {
          "output_type": "stream",
          "name": "stdout",
          "text": [
            "\u001b[1;33m[Open3D WARNING] GLFW Error: X11: The DISPLAY environment variable is missing\u001b[0;m\n",
            "\u001b[1;33m[Open3D WARNING] Failed to initialize GLFW\u001b[0;m\n"
          ]
        },
        {
          "output_type": "stream",
          "name": "stderr",
          "text": [
            "\r 17%|█▋        | 24/142 [00:13<01:14,  1.57it/s]"
          ]
        },
        {
          "output_type": "stream",
          "name": "stdout",
          "text": [
            "\u001b[1;33m[Open3D WARNING] GLFW Error: X11: The DISPLAY environment variable is missing\u001b[0;m\n",
            "\u001b[1;33m[Open3D WARNING] Failed to initialize GLFW\u001b[0;m\n",
            "\u001b[1;33m[Open3D WARNING] GLFW Error: X11: The DISPLAY environment variable is missing\u001b[0;m\n",
            "\u001b[1;33m[Open3D WARNING] Failed to initialize GLFW\u001b[0;m\n"
          ]
        },
        {
          "output_type": "stream",
          "name": "stderr",
          "text": [
            " 18%|█▊        | 26/142 [00:14<01:05,  1.76it/s]"
          ]
        },
        {
          "output_type": "stream",
          "name": "stdout",
          "text": [
            "\u001b[1;33m[Open3D WARNING] GLFW Error: X11: The DISPLAY environment variable is missing\u001b[0;m\n",
            "\u001b[1;33m[Open3D WARNING] Failed to initialize GLFW\u001b[0;m\n"
          ]
        },
        {
          "output_type": "stream",
          "name": "stderr",
          "text": [
            "\r 19%|█▉        | 27/142 [00:15<01:03,  1.81it/s]"
          ]
        },
        {
          "output_type": "stream",
          "name": "stdout",
          "text": [
            "\u001b[1;33m[Open3D WARNING] GLFW Error: X11: The DISPLAY environment variable is missing\u001b[0;m\n",
            "\u001b[1;33m[Open3D WARNING] Failed to initialize GLFW\u001b[0;m\n"
          ]
        },
        {
          "output_type": "stream",
          "name": "stderr",
          "text": [
            "\r 20%|█▉        | 28/142 [00:15<01:01,  1.86it/s]"
          ]
        },
        {
          "output_type": "stream",
          "name": "stdout",
          "text": [
            "\u001b[1;33m[Open3D WARNING] GLFW Error: X11: The DISPLAY environment variable is missing\u001b[0;m\n",
            "\u001b[1;33m[Open3D WARNING] Failed to initialize GLFW\u001b[0;m\n"
          ]
        },
        {
          "output_type": "stream",
          "name": "stderr",
          "text": [
            "\r 20%|██        | 29/142 [00:16<00:59,  1.89it/s]"
          ]
        },
        {
          "output_type": "stream",
          "name": "stdout",
          "text": [
            "\u001b[1;33m[Open3D WARNING] GLFW Error: X11: The DISPLAY environment variable is missing\u001b[0;m\n",
            "\u001b[1;33m[Open3D WARNING] Failed to initialize GLFW\u001b[0;m\n",
            "\u001b[1;33m[Open3D WARNING] GLFW Error: X11: The DISPLAY environment variable is missing\u001b[0;m\n",
            "\u001b[1;33m[Open3D WARNING] Failed to initialize GLFW\u001b[0;m\n"
          ]
        },
        {
          "output_type": "stream",
          "name": "stderr",
          "text": [
            "\r 21%|██        | 30/142 [00:16<00:58,  1.93it/s]"
          ]
        },
        {
          "output_type": "stream",
          "name": "stdout",
          "text": [
            "\u001b[1;33m[Open3D WARNING] GLFW Error: X11: The DISPLAY environment variable is missing\u001b[0;m\n",
            "\u001b[1;33m[Open3D WARNING] Failed to initialize GLFW\u001b[0;m\n"
          ]
        },
        {
          "output_type": "stream",
          "name": "stderr",
          "text": [
            "\r 22%|██▏       | 31/142 [00:17<00:56,  1.96it/s]"
          ]
        },
        {
          "output_type": "stream",
          "name": "stdout",
          "text": [
            "\u001b[1;33m[Open3D WARNING] GLFW Error: X11: The DISPLAY environment variable is missing\u001b[0;m\n",
            "\u001b[1;33m[Open3D WARNING] Failed to initialize GLFW\u001b[0;m\n"
          ]
        },
        {
          "output_type": "stream",
          "name": "stderr",
          "text": [
            "\r 23%|██▎       | 32/142 [00:17<00:55,  1.98it/s]"
          ]
        },
        {
          "output_type": "stream",
          "name": "stdout",
          "text": [
            "\u001b[1;33m[Open3D WARNING] GLFW Error: X11: The DISPLAY environment variable is missing\u001b[0;m\n",
            "\u001b[1;33m[Open3D WARNING] Failed to initialize GLFW\u001b[0;m\n"
          ]
        },
        {
          "output_type": "stream",
          "name": "stderr",
          "text": [
            "\r 23%|██▎       | 33/142 [00:18<00:54,  2.00it/s]"
          ]
        },
        {
          "output_type": "stream",
          "name": "stdout",
          "text": [
            "\u001b[1;33m[Open3D WARNING] GLFW Error: X11: The DISPLAY environment variable is missing\u001b[0;m\n",
            "\u001b[1;33m[Open3D WARNING] Failed to initialize GLFW\u001b[0;m\n"
          ]
        },
        {
          "output_type": "stream",
          "name": "stderr",
          "text": [
            "\r 24%|██▍       | 34/142 [00:18<00:53,  2.01it/s]"
          ]
        },
        {
          "output_type": "stream",
          "name": "stdout",
          "text": [
            "\u001b[1;33m[Open3D WARNING] GLFW Error: X11: The DISPLAY environment variable is missing\u001b[0;m\n",
            "\u001b[1;33m[Open3D WARNING] Failed to initialize GLFW\u001b[0;m\n"
          ]
        },
        {
          "output_type": "stream",
          "name": "stderr",
          "text": [
            "\r 25%|██▍       | 35/142 [00:19<00:53,  2.02it/s]"
          ]
        },
        {
          "output_type": "stream",
          "name": "stdout",
          "text": [
            "\u001b[1;33m[Open3D WARNING] GLFW Error: X11: The DISPLAY environment variable is missing\u001b[0;m\n",
            "\u001b[1;33m[Open3D WARNING] Failed to initialize GLFW\u001b[0;m\n"
          ]
        },
        {
          "output_type": "stream",
          "name": "stderr",
          "text": [
            "\r 25%|██▌       | 36/142 [00:19<00:52,  2.03it/s]"
          ]
        },
        {
          "output_type": "stream",
          "name": "stdout",
          "text": [
            "\u001b[1;33m[Open3D WARNING] GLFW Error: X11: The DISPLAY environment variable is missing\u001b[0;m\n",
            "\u001b[1;33m[Open3D WARNING] Failed to initialize GLFW\u001b[0;m\n"
          ]
        },
        {
          "output_type": "stream",
          "name": "stderr",
          "text": [
            " 27%|██▋       | 38/142 [00:20<00:51,  2.04it/s]"
          ]
        },
        {
          "output_type": "stream",
          "name": "stdout",
          "text": [
            "\u001b[1;33m[Open3D WARNING] GLFW Error: X11: The DISPLAY environment variable is missing\u001b[0;m\n",
            "\u001b[1;33m[Open3D WARNING] Failed to initialize GLFW\u001b[0;m\n",
            "\u001b[1;33m[Open3D WARNING] GLFW Error: X11: The DISPLAY environment variable is missing\u001b[0;m\n",
            "\u001b[1;33m[Open3D WARNING] Failed to initialize GLFW\u001b[0;m\n"
          ]
        },
        {
          "output_type": "stream",
          "name": "stderr",
          "text": [
            "\r 27%|██▋       | 39/142 [00:21<00:50,  2.02it/s]"
          ]
        },
        {
          "output_type": "stream",
          "name": "stdout",
          "text": [
            "\u001b[1;33m[Open3D WARNING] GLFW Error: X11: The DISPLAY environment variable is missing\u001b[0;m\n",
            "\u001b[1;33m[Open3D WARNING] Failed to initialize GLFW\u001b[0;m\n"
          ]
        },
        {
          "output_type": "stream",
          "name": "stderr",
          "text": [
            "\r 28%|██▊       | 40/142 [00:21<00:50,  2.03it/s]"
          ]
        },
        {
          "output_type": "stream",
          "name": "stdout",
          "text": [
            "\u001b[1;33m[Open3D WARNING] GLFW Error: X11: The DISPLAY environment variable is missing\u001b[0;m\n",
            "\u001b[1;33m[Open3D WARNING] Failed to initialize GLFW\u001b[0;m\n"
          ]
        },
        {
          "output_type": "stream",
          "name": "stderr",
          "text": [
            "\r 29%|██▉       | 41/142 [00:22<00:49,  2.03it/s]"
          ]
        },
        {
          "output_type": "stream",
          "name": "stdout",
          "text": [
            "\u001b[1;33m[Open3D WARNING] GLFW Error: X11: The DISPLAY environment variable is missing\u001b[0;m\n",
            "\u001b[1;33m[Open3D WARNING] Failed to initialize GLFW\u001b[0;m\n"
          ]
        },
        {
          "output_type": "stream",
          "name": "stderr",
          "text": [
            "\r 30%|██▉       | 42/142 [00:22<00:49,  2.02it/s]"
          ]
        },
        {
          "output_type": "stream",
          "name": "stdout",
          "text": [
            "\u001b[1;33m[Open3D WARNING] GLFW Error: X11: The DISPLAY environment variable is missing\u001b[0;m\n",
            "\u001b[1;33m[Open3D WARNING] Failed to initialize GLFW\u001b[0;m\n"
          ]
        },
        {
          "output_type": "stream",
          "name": "stderr",
          "text": [
            "\r 30%|███       | 43/142 [00:23<00:54,  1.81it/s]"
          ]
        },
        {
          "output_type": "stream",
          "name": "stdout",
          "text": [
            "\u001b[1;33m[Open3D WARNING] GLFW Error: X11: The DISPLAY environment variable is missing\u001b[0;m\n",
            "\u001b[1;33m[Open3D WARNING] Failed to initialize GLFW\u001b[0;m\n"
          ]
        },
        {
          "output_type": "stream",
          "name": "stderr",
          "text": [
            "\r 31%|███       | 44/142 [00:23<00:59,  1.65it/s]"
          ]
        },
        {
          "output_type": "stream",
          "name": "stdout",
          "text": [
            "\u001b[1;33m[Open3D WARNING] GLFW Error: X11: The DISPLAY environment variable is missing\u001b[0;m\n",
            "\u001b[1;33m[Open3D WARNING] Failed to initialize GLFW\u001b[0;m\n"
          ]
        },
        {
          "output_type": "stream",
          "name": "stderr",
          "text": [
            "\r 32%|███▏      | 45/142 [00:24<01:03,  1.53it/s]"
          ]
        },
        {
          "output_type": "stream",
          "name": "stdout",
          "text": [
            "\u001b[1;33m[Open3D WARNING] GLFW Error: X11: The DISPLAY environment variable is missing\u001b[0;m\n",
            "\u001b[1;33m[Open3D WARNING] Failed to initialize GLFW\u001b[0;m\n"
          ]
        },
        {
          "output_type": "stream",
          "name": "stderr",
          "text": [
            "\r 32%|███▏      | 46/142 [00:25<01:06,  1.45it/s]"
          ]
        },
        {
          "output_type": "stream",
          "name": "stdout",
          "text": [
            "\u001b[1;33m[Open3D WARNING] GLFW Error: X11: The DISPLAY environment variable is missing\u001b[0;m\n",
            "\u001b[1;33m[Open3D WARNING] Failed to initialize GLFW\u001b[0;m\n"
          ]
        },
        {
          "output_type": "stream",
          "name": "stderr",
          "text": [
            "\r 33%|███▎      | 47/142 [00:26<01:08,  1.39it/s]"
          ]
        },
        {
          "output_type": "stream",
          "name": "stdout",
          "text": [
            "\u001b[1;33m[Open3D WARNING] GLFW Error: X11: The DISPLAY environment variable is missing\u001b[0;m\n",
            "\u001b[1;33m[Open3D WARNING] Failed to initialize GLFW\u001b[0;m\n"
          ]
        },
        {
          "output_type": "stream",
          "name": "stderr",
          "text": [
            "\r 34%|███▍      | 48/142 [00:27<01:09,  1.35it/s]"
          ]
        },
        {
          "output_type": "stream",
          "name": "stdout",
          "text": [
            "\u001b[1;33m[Open3D WARNING] GLFW Error: X11: The DISPLAY environment variable is missing\u001b[0;m\n",
            "\u001b[1;33m[Open3D WARNING] Failed to initialize GLFW\u001b[0;m\n"
          ]
        },
        {
          "output_type": "stream",
          "name": "stderr",
          "text": [
            "\r 35%|███▍      | 49/142 [00:27<01:10,  1.32it/s]"
          ]
        },
        {
          "output_type": "stream",
          "name": "stdout",
          "text": [
            "\u001b[1;33m[Open3D WARNING] GLFW Error: X11: The DISPLAY environment variable is missing\u001b[0;m\n",
            "\u001b[1;33m[Open3D WARNING] Failed to initialize GLFW\u001b[0;m\n"
          ]
        },
        {
          "output_type": "stream",
          "name": "stderr",
          "text": [
            " 36%|███▌      | 51/142 [00:29<01:01,  1.48it/s]"
          ]
        },
        {
          "output_type": "stream",
          "name": "stdout",
          "text": [
            "\u001b[1;33m[Open3D WARNING] GLFW Error: X11: The DISPLAY environment variable is missing\u001b[0;m\n",
            "\u001b[1;33m[Open3D WARNING] Failed to initialize GLFW\u001b[0;m\n"
          ]
        },
        {
          "output_type": "stream",
          "name": "stderr",
          "text": [
            "\r 37%|███▋      | 52/142 [00:29<00:56,  1.61it/s]"
          ]
        },
        {
          "output_type": "stream",
          "name": "stdout",
          "text": [
            "\u001b[1;33m[Open3D WARNING] GLFW Error: X11: The DISPLAY environment variable is missing\u001b[0;m\n",
            "\u001b[1;33m[Open3D WARNING] Failed to initialize GLFW\u001b[0;m\n"
          ]
        },
        {
          "output_type": "stream",
          "name": "stderr",
          "text": [
            "\r 37%|███▋      | 53/142 [00:30<00:51,  1.71it/s]"
          ]
        },
        {
          "output_type": "stream",
          "name": "stdout",
          "text": [
            "\u001b[1;33m[Open3D WARNING] GLFW Error: X11: The DISPLAY environment variable is missing\u001b[0;m\n",
            "\u001b[1;33m[Open3D WARNING] Failed to initialize GLFW\u001b[0;m\n",
            "\u001b[1;33m[Open3D WARNING] GLFW Error: X11: The DISPLAY environment variable is missing\u001b[0;m\n",
            "\u001b[1;33m[Open3D WARNING] Failed to initialize GLFW\u001b[0;m\n"
          ]
        },
        {
          "output_type": "stream",
          "name": "stderr",
          "text": [
            "\r 38%|███▊      | 54/142 [00:30<00:49,  1.79it/s]"
          ]
        },
        {
          "output_type": "stream",
          "name": "stdout",
          "text": [
            "\u001b[1;33m[Open3D WARNING] GLFW Error: X11: The DISPLAY environment variable is missing\u001b[0;m\n",
            "\u001b[1;33m[Open3D WARNING] Failed to initialize GLFW\u001b[0;m\n"
          ]
        },
        {
          "output_type": "stream",
          "name": "stderr",
          "text": [
            "\r 39%|███▊      | 55/142 [00:31<00:47,  1.85it/s]"
          ]
        },
        {
          "output_type": "stream",
          "name": "stdout",
          "text": [
            "\u001b[1;33m[Open3D WARNING] GLFW Error: X11: The DISPLAY environment variable is missing\u001b[0;m\n",
            "\u001b[1;33m[Open3D WARNING] Failed to initialize GLFW\u001b[0;m\n"
          ]
        },
        {
          "output_type": "stream",
          "name": "stderr",
          "text": [
            " 40%|████      | 57/142 [00:32<00:44,  1.91it/s]"
          ]
        },
        {
          "output_type": "stream",
          "name": "stdout",
          "text": [
            "\u001b[1;33m[Open3D WARNING] GLFW Error: X11: The DISPLAY environment variable is missing\u001b[0;m\n",
            "\u001b[1;33m[Open3D WARNING] Failed to initialize GLFW\u001b[0;m\n"
          ]
        },
        {
          "output_type": "stream",
          "name": "stderr",
          "text": [
            "\r 41%|████      | 58/142 [00:32<00:43,  1.93it/s]"
          ]
        },
        {
          "output_type": "stream",
          "name": "stdout",
          "text": [
            "\u001b[1;33m[Open3D WARNING] GLFW Error: X11: The DISPLAY environment variable is missing\u001b[0;m\n",
            "\u001b[1;33m[Open3D WARNING] Failed to initialize GLFW\u001b[0;m\n"
          ]
        },
        {
          "output_type": "stream",
          "name": "stderr",
          "text": [
            "\r 42%|████▏     | 59/142 [00:33<00:42,  1.96it/s]"
          ]
        },
        {
          "output_type": "stream",
          "name": "stdout",
          "text": [
            "\u001b[1;33m[Open3D WARNING] GLFW Error: X11: The DISPLAY environment variable is missing\u001b[0;m\n",
            "\u001b[1;33m[Open3D WARNING] Failed to initialize GLFW\u001b[0;m\n",
            "\u001b[1;33m[Open3D WARNING] GLFW Error: X11: The DISPLAY environment variable is missing\u001b[0;m\n",
            "\u001b[1;33m[Open3D WARNING] Failed to initialize GLFW\u001b[0;m\n"
          ]
        },
        {
          "output_type": "stream",
          "name": "stderr",
          "text": [
            " 43%|████▎     | 61/142 [00:34<00:41,  1.96it/s]"
          ]
        },
        {
          "output_type": "stream",
          "name": "stdout",
          "text": [
            "\u001b[1;33m[Open3D WARNING] GLFW Error: X11: The DISPLAY environment variable is missing\u001b[0;m\n",
            "\u001b[1;33m[Open3D WARNING] Failed to initialize GLFW\u001b[0;m\n",
            "\u001b[1;33m[Open3D WARNING] GLFW Error: X11: The DISPLAY environment variable is missing\u001b[0;m\n",
            "\u001b[1;33m[Open3D WARNING] Failed to initialize GLFW\u001b[0;m\n"
          ]
        },
        {
          "output_type": "stream",
          "name": "stderr",
          "text": [
            " 44%|████▍     | 63/142 [00:35<00:40,  1.97it/s]"
          ]
        },
        {
          "output_type": "stream",
          "name": "stdout",
          "text": [
            "\u001b[1;33m[Open3D WARNING] GLFW Error: X11: The DISPLAY environment variable is missing\u001b[0;m\n",
            "\u001b[1;33m[Open3D WARNING] Failed to initialize GLFW\u001b[0;m\n",
            "\u001b[1;33m[Open3D WARNING] GLFW Error: X11: The DISPLAY environment variable is missing\u001b[0;m\n",
            "\u001b[1;33m[Open3D WARNING] Failed to initialize GLFW\u001b[0;m\n"
          ]
        },
        {
          "output_type": "stream",
          "name": "stderr",
          "text": [
            " 46%|████▌     | 65/142 [00:36<00:39,  1.97it/s]"
          ]
        },
        {
          "output_type": "stream",
          "name": "stdout",
          "text": [
            "\u001b[1;33m[Open3D WARNING] GLFW Error: X11: The DISPLAY environment variable is missing\u001b[0;m\n",
            "\u001b[1;33m[Open3D WARNING] Failed to initialize GLFW\u001b[0;m\n",
            "\u001b[1;33m[Open3D WARNING] GLFW Error: X11: The DISPLAY environment variable is missing\u001b[0;m\n",
            "\u001b[1;33m[Open3D WARNING] Failed to initialize GLFW\u001b[0;m\n"
          ]
        },
        {
          "output_type": "stream",
          "name": "stderr",
          "text": [
            " 47%|████▋     | 67/142 [00:37<00:37,  1.99it/s]"
          ]
        },
        {
          "output_type": "stream",
          "name": "stdout",
          "text": [
            "\u001b[1;33m[Open3D WARNING] GLFW Error: X11: The DISPLAY environment variable is missing\u001b[0;m\n",
            "\u001b[1;33m[Open3D WARNING] Failed to initialize GLFW\u001b[0;m\n",
            "\u001b[1;33m[Open3D WARNING] GLFW Error: X11: The DISPLAY environment variable is missing\u001b[0;m\n",
            "\u001b[1;33m[Open3D WARNING] Failed to initialize GLFW\u001b[0;m\n"
          ]
        },
        {
          "output_type": "stream",
          "name": "stderr",
          "text": [
            " 49%|████▊     | 69/142 [00:38<00:36,  1.99it/s]"
          ]
        },
        {
          "output_type": "stream",
          "name": "stdout",
          "text": [
            "\u001b[1;33m[Open3D WARNING] GLFW Error: X11: The DISPLAY environment variable is missing\u001b[0;m\n",
            "\u001b[1;33m[Open3D WARNING] Failed to initialize GLFW\u001b[0;m\n"
          ]
        },
        {
          "output_type": "stream",
          "name": "stderr",
          "text": [
            "\r 49%|████▉     | 70/142 [00:38<00:37,  1.94it/s]"
          ]
        },
        {
          "output_type": "stream",
          "name": "stdout",
          "text": [
            "\u001b[1;33m[Open3D WARNING] GLFW Error: X11: The DISPLAY environment variable is missing\u001b[0;m\n",
            "\u001b[1;33m[Open3D WARNING] Failed to initialize GLFW\u001b[0;m\n",
            "\u001b[1;33m[Open3D WARNING] GLFW Error: X11: The DISPLAY environment variable is missing\u001b[0;m\n",
            "\u001b[1;33m[Open3D WARNING] Failed to initialize GLFW\u001b[0;m\n"
          ]
        },
        {
          "output_type": "stream",
          "name": "stderr",
          "text": [
            "\r 50%|█████     | 71/142 [00:39<00:42,  1.66it/s]"
          ]
        },
        {
          "output_type": "stream",
          "name": "stdout",
          "text": [
            "\u001b[1;33m[Open3D WARNING] GLFW Error: X11: The DISPLAY environment variable is missing\u001b[0;m\n",
            "\u001b[1;33m[Open3D WARNING] Failed to initialize GLFW\u001b[0;m\n"
          ]
        },
        {
          "output_type": "stream",
          "name": "stderr",
          "text": [
            "\r 51%|█████     | 72/142 [00:40<00:46,  1.52it/s]"
          ]
        },
        {
          "output_type": "stream",
          "name": "stdout",
          "text": [
            "\u001b[1;33m[Open3D WARNING] GLFW Error: X11: The DISPLAY environment variable is missing\u001b[0;m\n",
            "\u001b[1;33m[Open3D WARNING] Failed to initialize GLFW\u001b[0;m\n"
          ]
        },
        {
          "output_type": "stream",
          "name": "stderr",
          "text": [
            "\r 51%|█████▏    | 73/142 [00:41<00:48,  1.43it/s]"
          ]
        },
        {
          "output_type": "stream",
          "name": "stdout",
          "text": [
            "\u001b[1;33m[Open3D WARNING] GLFW Error: X11: The DISPLAY environment variable is missing\u001b[0;m\n",
            "\u001b[1;33m[Open3D WARNING] Failed to initialize GLFW\u001b[0;m\n"
          ]
        },
        {
          "output_type": "stream",
          "name": "stderr",
          "text": [
            "\r 52%|█████▏    | 74/142 [00:41<00:48,  1.39it/s]"
          ]
        },
        {
          "output_type": "stream",
          "name": "stdout",
          "text": [
            "\u001b[1;33m[Open3D WARNING] GLFW Error: X11: The DISPLAY environment variable is missing\u001b[0;m\n",
            "\u001b[1;33m[Open3D WARNING] Failed to initialize GLFW\u001b[0;m\n"
          ]
        },
        {
          "output_type": "stream",
          "name": "stderr",
          "text": [
            "\r 53%|█████▎    | 75/142 [00:42<00:49,  1.35it/s]"
          ]
        },
        {
          "output_type": "stream",
          "name": "stdout",
          "text": [
            "\u001b[1;33m[Open3D WARNING] GLFW Error: X11: The DISPLAY environment variable is missing\u001b[0;m\n",
            "\u001b[1;33m[Open3D WARNING] Failed to initialize GLFW\u001b[0;m\n"
          ]
        },
        {
          "output_type": "stream",
          "name": "stderr",
          "text": [
            "\r 54%|█████▎    | 76/142 [00:43<00:49,  1.34it/s]"
          ]
        },
        {
          "output_type": "stream",
          "name": "stdout",
          "text": [
            "\u001b[1;33m[Open3D WARNING] GLFW Error: X11: The DISPLAY environment variable is missing\u001b[0;m\n",
            "\u001b[1;33m[Open3D WARNING] Failed to initialize GLFW\u001b[0;m\n"
          ]
        },
        {
          "output_type": "stream",
          "name": "stderr",
          "text": [
            " 55%|█████▍    | 78/142 [00:44<00:46,  1.37it/s]"
          ]
        },
        {
          "output_type": "stream",
          "name": "stdout",
          "text": [
            "\u001b[1;33m[Open3D WARNING] GLFW Error: X11: The DISPLAY environment variable is missing\u001b[0;m\n",
            "\u001b[1;33m[Open3D WARNING] Failed to initialize GLFW\u001b[0;m\n"
          ]
        },
        {
          "output_type": "stream",
          "name": "stderr",
          "text": [
            "\r 56%|█████▌    | 79/142 [00:45<00:41,  1.51it/s]"
          ]
        },
        {
          "output_type": "stream",
          "name": "stdout",
          "text": [
            "\u001b[1;33m[Open3D WARNING] GLFW Error: X11: The DISPLAY environment variable is missing\u001b[0;m\n",
            "\u001b[1;33m[Open3D WARNING] Failed to initialize GLFW\u001b[0;m\n"
          ]
        },
        {
          "output_type": "stream",
          "name": "stderr",
          "text": [
            "\r 56%|█████▋    | 80/142 [00:45<00:38,  1.63it/s]"
          ]
        },
        {
          "output_type": "stream",
          "name": "stdout",
          "text": [
            "\u001b[1;33m[Open3D WARNING] GLFW Error: X11: The DISPLAY environment variable is missing\u001b[0;m\n",
            "\u001b[1;33m[Open3D WARNING] Failed to initialize GLFW\u001b[0;m\n"
          ]
        },
        {
          "output_type": "stream",
          "name": "stderr",
          "text": [
            "\r 57%|█████▋    | 81/142 [00:46<00:35,  1.72it/s]"
          ]
        },
        {
          "output_type": "stream",
          "name": "stdout",
          "text": [
            "\u001b[1;33m[Open3D WARNING] GLFW Error: X11: The DISPLAY environment variable is missing\u001b[0;m\n",
            "\u001b[1;33m[Open3D WARNING] Failed to initialize GLFW\u001b[0;m\n"
          ]
        },
        {
          "output_type": "stream",
          "name": "stderr",
          "text": [
            "\r 58%|█████▊    | 82/142 [00:46<00:33,  1.79it/s]"
          ]
        },
        {
          "output_type": "stream",
          "name": "stdout",
          "text": [
            "\u001b[1;33m[Open3D WARNING] GLFW Error: X11: The DISPLAY environment variable is missing\u001b[0;m\n",
            "\u001b[1;33m[Open3D WARNING] Failed to initialize GLFW\u001b[0;m\n"
          ]
        },
        {
          "output_type": "stream",
          "name": "stderr",
          "text": [
            "\r 58%|█████▊    | 83/142 [00:47<00:32,  1.84it/s]"
          ]
        },
        {
          "output_type": "stream",
          "name": "stdout",
          "text": [
            "\u001b[1;33m[Open3D WARNING] GLFW Error: X11: The DISPLAY environment variable is missing\u001b[0;m\n",
            "\u001b[1;33m[Open3D WARNING] Failed to initialize GLFW\u001b[0;m\n"
          ]
        },
        {
          "output_type": "stream",
          "name": "stderr",
          "text": [
            "\r 59%|█████▉    | 84/142 [00:47<00:30,  1.88it/s]"
          ]
        },
        {
          "output_type": "stream",
          "name": "stdout",
          "text": [
            "\u001b[1;33m[Open3D WARNING] GLFW Error: X11: The DISPLAY environment variable is missing\u001b[0;m\n",
            "\u001b[1;33m[Open3D WARNING] Failed to initialize GLFW\u001b[0;m\n"
          ]
        },
        {
          "output_type": "stream",
          "name": "stderr",
          "text": [
            "\r 60%|█████▉    | 85/142 [00:48<00:29,  1.91it/s]"
          ]
        },
        {
          "output_type": "stream",
          "name": "stdout",
          "text": [
            "\u001b[1;33m[Open3D WARNING] GLFW Error: X11: The DISPLAY environment variable is missing\u001b[0;m\n",
            "\u001b[1;33m[Open3D WARNING] Failed to initialize GLFW\u001b[0;m\n"
          ]
        },
        {
          "output_type": "stream",
          "name": "stderr",
          "text": [
            "\r 61%|██████    | 86/142 [00:48<00:28,  1.94it/s]"
          ]
        },
        {
          "output_type": "stream",
          "name": "stdout",
          "text": [
            "\u001b[1;33m[Open3D WARNING] GLFW Error: X11: The DISPLAY environment variable is missing\u001b[0;m\n",
            "\u001b[1;33m[Open3D WARNING] Failed to initialize GLFW\u001b[0;m\n"
          ]
        },
        {
          "output_type": "stream",
          "name": "stderr",
          "text": [
            "\r 61%|██████▏   | 87/142 [00:49<00:28,  1.96it/s]"
          ]
        },
        {
          "output_type": "stream",
          "name": "stdout",
          "text": [
            "\u001b[1;33m[Open3D WARNING] GLFW Error: X11: The DISPLAY environment variable is missing\u001b[0;m\n",
            "\u001b[1;33m[Open3D WARNING] Failed to initialize GLFW\u001b[0;m\n"
          ]
        },
        {
          "output_type": "stream",
          "name": "stderr",
          "text": [
            "\r 62%|██████▏   | 88/142 [00:49<00:27,  1.99it/s]"
          ]
        },
        {
          "output_type": "stream",
          "name": "stdout",
          "text": [
            "\u001b[1;33m[Open3D WARNING] GLFW Error: X11: The DISPLAY environment variable is missing\u001b[0;m\n",
            "\u001b[1;33m[Open3D WARNING] Failed to initialize GLFW\u001b[0;m\n"
          ]
        },
        {
          "output_type": "stream",
          "name": "stderr",
          "text": [
            "\r 63%|██████▎   | 89/142 [00:50<00:26,  1.99it/s]"
          ]
        },
        {
          "output_type": "stream",
          "name": "stdout",
          "text": [
            "\u001b[1;33m[Open3D WARNING] GLFW Error: X11: The DISPLAY environment variable is missing\u001b[0;m\n",
            "\u001b[1;33m[Open3D WARNING] Failed to initialize GLFW\u001b[0;m\n"
          ]
        },
        {
          "output_type": "stream",
          "name": "stderr",
          "text": [
            "\r 63%|██████▎   | 90/142 [00:50<00:26,  1.98it/s]"
          ]
        },
        {
          "output_type": "stream",
          "name": "stdout",
          "text": [
            "\u001b[1;33m[Open3D WARNING] GLFW Error: X11: The DISPLAY environment variable is missing\u001b[0;m\n",
            "\u001b[1;33m[Open3D WARNING] Failed to initialize GLFW\u001b[0;m\n"
          ]
        },
        {
          "output_type": "stream",
          "name": "stderr",
          "text": [
            "\r 64%|██████▍   | 91/142 [00:51<00:25,  1.98it/s]"
          ]
        },
        {
          "output_type": "stream",
          "name": "stdout",
          "text": [
            "\u001b[1;33m[Open3D WARNING] GLFW Error: X11: The DISPLAY environment variable is missing\u001b[0;m\n",
            "\u001b[1;33m[Open3D WARNING] Failed to initialize GLFW\u001b[0;m\n"
          ]
        },
        {
          "output_type": "stream",
          "name": "stderr",
          "text": [
            "\r 65%|██████▍   | 92/142 [00:51<00:24,  2.00it/s]"
          ]
        },
        {
          "output_type": "stream",
          "name": "stdout",
          "text": [
            "\u001b[1;33m[Open3D WARNING] GLFW Error: X11: The DISPLAY environment variable is missing\u001b[0;m\n",
            "\u001b[1;33m[Open3D WARNING] Failed to initialize GLFW\u001b[0;m\n"
          ]
        },
        {
          "output_type": "stream",
          "name": "stderr",
          "text": [
            "\r 65%|██████▌   | 93/142 [00:52<00:24,  2.01it/s]"
          ]
        },
        {
          "output_type": "stream",
          "name": "stdout",
          "text": [
            "\u001b[1;33m[Open3D WARNING] GLFW Error: X11: The DISPLAY environment variable is missing\u001b[0;m\n",
            "\u001b[1;33m[Open3D WARNING] Failed to initialize GLFW\u001b[0;m\n"
          ]
        },
        {
          "output_type": "stream",
          "name": "stderr",
          "text": [
            "\r 66%|██████▌   | 94/142 [00:52<00:23,  2.01it/s]"
          ]
        },
        {
          "output_type": "stream",
          "name": "stdout",
          "text": [
            "\u001b[1;33m[Open3D WARNING] GLFW Error: X11: The DISPLAY environment variable is missing\u001b[0;m\n",
            "\u001b[1;33m[Open3D WARNING] Failed to initialize GLFW\u001b[0;m\n"
          ]
        },
        {
          "output_type": "stream",
          "name": "stderr",
          "text": [
            "\r 67%|██████▋   | 95/142 [00:53<00:23,  2.02it/s]"
          ]
        },
        {
          "output_type": "stream",
          "name": "stdout",
          "text": [
            "\u001b[1;33m[Open3D WARNING] GLFW Error: X11: The DISPLAY environment variable is missing\u001b[0;m\n",
            "\u001b[1;33m[Open3D WARNING] Failed to initialize GLFW\u001b[0;m\n"
          ]
        },
        {
          "output_type": "stream",
          "name": "stderr",
          "text": [
            "\r 68%|██████▊   | 96/142 [00:53<00:22,  2.02it/s]"
          ]
        },
        {
          "output_type": "stream",
          "name": "stdout",
          "text": [
            "\u001b[1;33m[Open3D WARNING] GLFW Error: X11: The DISPLAY environment variable is missing\u001b[0;m\n",
            "\u001b[1;33m[Open3D WARNING] Failed to initialize GLFW\u001b[0;m\n",
            "\u001b[1;33m[Open3D WARNING] GLFW Error: X11: The DISPLAY environment variable is missing\u001b[0;m\n",
            "\u001b[1;33m[Open3D WARNING] Failed to initialize GLFW\u001b[0;m\n"
          ]
        },
        {
          "output_type": "stream",
          "name": "stderr",
          "text": [
            "\r 68%|██████▊   | 97/142 [00:54<00:22,  1.99it/s]"
          ]
        },
        {
          "output_type": "stream",
          "name": "stdout",
          "text": [
            "\u001b[1;33m[Open3D WARNING] GLFW Error: X11: The DISPLAY environment variable is missing\u001b[0;m\n",
            "\u001b[1;33m[Open3D WARNING] Failed to initialize GLFW\u001b[0;m\n"
          ]
        },
        {
          "output_type": "stream",
          "name": "stderr",
          "text": [
            "\r 69%|██████▉   | 98/142 [00:55<00:24,  1.80it/s]"
          ]
        },
        {
          "output_type": "stream",
          "name": "stdout",
          "text": [
            "\u001b[1;33m[Open3D WARNING] GLFW Error: X11: The DISPLAY environment variable is missing\u001b[0;m\n",
            "\u001b[1;33m[Open3D WARNING] Failed to initialize GLFW\u001b[0;m\n"
          ]
        },
        {
          "output_type": "stream",
          "name": "stderr",
          "text": [
            "\r 70%|██████▉   | 99/142 [00:55<00:26,  1.61it/s]"
          ]
        },
        {
          "output_type": "stream",
          "name": "stdout",
          "text": [
            "\u001b[1;33m[Open3D WARNING] GLFW Error: X11: The DISPLAY environment variable is missing\u001b[0;m\n",
            "\u001b[1;33m[Open3D WARNING] Failed to initialize GLFW\u001b[0;m\n"
          ]
        },
        {
          "output_type": "stream",
          "name": "stderr",
          "text": [
            "\r 70%|███████   | 100/142 [00:56<00:28,  1.48it/s]"
          ]
        },
        {
          "output_type": "stream",
          "name": "stdout",
          "text": [
            "\u001b[1;33m[Open3D WARNING] GLFW Error: X11: The DISPLAY environment variable is missing\u001b[0;m\n",
            "\u001b[1;33m[Open3D WARNING] Failed to initialize GLFW\u001b[0;m\n"
          ]
        },
        {
          "output_type": "stream",
          "name": "stderr",
          "text": [
            "\r 71%|███████   | 101/142 [00:57<00:29,  1.41it/s]"
          ]
        },
        {
          "output_type": "stream",
          "name": "stdout",
          "text": [
            "\u001b[1;33m[Open3D WARNING] GLFW Error: X11: The DISPLAY environment variable is missing\u001b[0;m\n",
            "\u001b[1;33m[Open3D WARNING] Failed to initialize GLFW\u001b[0;m\n"
          ]
        },
        {
          "output_type": "stream",
          "name": "stderr",
          "text": [
            " 73%|███████▎  | 103/142 [00:58<00:28,  1.35it/s]"
          ]
        },
        {
          "output_type": "stream",
          "name": "stdout",
          "text": [
            "\u001b[1;33m[Open3D WARNING] GLFW Error: X11: The DISPLAY environment variable is missing\u001b[0;m\n",
            "\u001b[1;33m[Open3D WARNING] Failed to initialize GLFW\u001b[0;m\n",
            "\u001b[1;33m[Open3D WARNING] GLFW Error: X11: The DISPLAY environment variable is missing\u001b[0;m\n",
            "\u001b[1;33m[Open3D WARNING] Failed to initialize GLFW\u001b[0;m\n"
          ]
        },
        {
          "output_type": "stream",
          "name": "stderr",
          "text": [
            "\r 73%|███████▎  | 104/142 [00:59<00:28,  1.33it/s]"
          ]
        },
        {
          "output_type": "stream",
          "name": "stdout",
          "text": [
            "\u001b[1;33m[Open3D WARNING] GLFW Error: X11: The DISPLAY environment variable is missing\u001b[0;m\n",
            "\u001b[1;33m[Open3D WARNING] Failed to initialize GLFW\u001b[0;m\n"
          ]
        },
        {
          "output_type": "stream",
          "name": "stderr",
          "text": [
            " 75%|███████▍  | 106/142 [01:00<00:23,  1.52it/s]"
          ]
        },
        {
          "output_type": "stream",
          "name": "stdout",
          "text": [
            "\u001b[1;33m[Open3D WARNING] GLFW Error: X11: The DISPLAY environment variable is missing\u001b[0;m\n",
            "\u001b[1;33m[Open3D WARNING] Failed to initialize GLFW\u001b[0;m\n"
          ]
        },
        {
          "output_type": "stream",
          "name": "stderr",
          "text": [
            "\r 75%|███████▌  | 107/142 [01:01<00:21,  1.64it/s]"
          ]
        },
        {
          "output_type": "stream",
          "name": "stdout",
          "text": [
            "\u001b[1;33m[Open3D WARNING] GLFW Error: X11: The DISPLAY environment variable is missing\u001b[0;m\n",
            "\u001b[1;33m[Open3D WARNING] Failed to initialize GLFW\u001b[0;m\n"
          ]
        },
        {
          "output_type": "stream",
          "name": "stderr",
          "text": [
            "\r 76%|███████▌  | 108/142 [01:01<00:19,  1.71it/s]"
          ]
        },
        {
          "output_type": "stream",
          "name": "stdout",
          "text": [
            "\u001b[1;33m[Open3D WARNING] GLFW Error: X11: The DISPLAY environment variable is missing\u001b[0;m\n",
            "\u001b[1;33m[Open3D WARNING] Failed to initialize GLFW\u001b[0;m\n"
          ]
        },
        {
          "output_type": "stream",
          "name": "stderr",
          "text": [
            "\r 77%|███████▋  | 109/142 [01:02<00:18,  1.80it/s]"
          ]
        },
        {
          "output_type": "stream",
          "name": "stdout",
          "text": [
            "\u001b[1;33m[Open3D WARNING] GLFW Error: X11: The DISPLAY environment variable is missing\u001b[0;m\n",
            "\u001b[1;33m[Open3D WARNING] Failed to initialize GLFW\u001b[0;m\n"
          ]
        },
        {
          "output_type": "stream",
          "name": "stderr",
          "text": [
            "\r 77%|███████▋  | 110/142 [01:02<00:17,  1.84it/s]"
          ]
        },
        {
          "output_type": "stream",
          "name": "stdout",
          "text": [
            "\u001b[1;33m[Open3D WARNING] GLFW Error: X11: The DISPLAY environment variable is missing\u001b[0;m\n",
            "\u001b[1;33m[Open3D WARNING] Failed to initialize GLFW\u001b[0;m\n"
          ]
        },
        {
          "output_type": "stream",
          "name": "stderr",
          "text": [
            "\r 78%|███████▊  | 111/142 [01:03<00:16,  1.89it/s]"
          ]
        },
        {
          "output_type": "stream",
          "name": "stdout",
          "text": [
            "\u001b[1;33m[Open3D WARNING] GLFW Error: X11: The DISPLAY environment variable is missing\u001b[0;m\n",
            "\u001b[1;33m[Open3D WARNING] Failed to initialize GLFW\u001b[0;m\n"
          ]
        },
        {
          "output_type": "stream",
          "name": "stderr",
          "text": [
            "\r 79%|███████▉  | 112/142 [01:03<00:15,  1.92it/s]"
          ]
        },
        {
          "output_type": "stream",
          "name": "stdout",
          "text": [
            "\u001b[1;33m[Open3D WARNING] GLFW Error: X11: The DISPLAY environment variable is missing\u001b[0;m\n",
            "\u001b[1;33m[Open3D WARNING] Failed to initialize GLFW\u001b[0;m\n"
          ]
        },
        {
          "output_type": "stream",
          "name": "stderr",
          "text": [
            "\r 80%|███████▉  | 113/142 [01:04<00:14,  1.96it/s]"
          ]
        },
        {
          "output_type": "stream",
          "name": "stdout",
          "text": [
            "\u001b[1;33m[Open3D WARNING] GLFW Error: X11: The DISPLAY environment variable is missing\u001b[0;m\n",
            "\u001b[1;33m[Open3D WARNING] Failed to initialize GLFW\u001b[0;m\n"
          ]
        },
        {
          "output_type": "stream",
          "name": "stderr",
          "text": [
            "\r 80%|████████  | 114/142 [01:04<00:14,  1.96it/s]"
          ]
        },
        {
          "output_type": "stream",
          "name": "stdout",
          "text": [
            "\u001b[1;33m[Open3D WARNING] GLFW Error: X11: The DISPLAY environment variable is missing\u001b[0;m\n",
            "\u001b[1;33m[Open3D WARNING] Failed to initialize GLFW\u001b[0;m\n"
          ]
        },
        {
          "output_type": "stream",
          "name": "stderr",
          "text": [
            "\r 81%|████████  | 115/142 [01:05<00:13,  1.96it/s]"
          ]
        },
        {
          "output_type": "stream",
          "name": "stdout",
          "text": [
            "\u001b[1;33m[Open3D WARNING] GLFW Error: X11: The DISPLAY environment variable is missing\u001b[0;m\n",
            "\u001b[1;33m[Open3D WARNING] Failed to initialize GLFW\u001b[0;m\n"
          ]
        },
        {
          "output_type": "stream",
          "name": "stderr",
          "text": [
            "\r 82%|████████▏ | 116/142 [01:05<00:13,  1.96it/s]"
          ]
        },
        {
          "output_type": "stream",
          "name": "stdout",
          "text": [
            "\u001b[1;33m[Open3D WARNING] GLFW Error: X11: The DISPLAY environment variable is missing\u001b[0;m\n",
            "\u001b[1;33m[Open3D WARNING] Failed to initialize GLFW\u001b[0;m\n"
          ]
        },
        {
          "output_type": "stream",
          "name": "stderr",
          "text": [
            "\r 82%|████████▏ | 117/142 [01:06<00:15,  1.63it/s]"
          ]
        },
        {
          "output_type": "stream",
          "name": "stdout",
          "text": [
            "\u001b[1;33m[Open3D WARNING] GLFW Error: X11: The DISPLAY environment variable is missing\u001b[0;m\n",
            "\u001b[1;33m[Open3D WARNING] Failed to initialize GLFW\u001b[0;m\n",
            "\u001b[1;33m[Open3D WARNING] GLFW Error: X11: The DISPLAY environment variable is missing\u001b[0;m\n",
            "\u001b[1;33m[Open3D WARNING] Failed to initialize GLFW\u001b[0;m\n"
          ]
        },
        {
          "output_type": "stream",
          "name": "stderr",
          "text": [
            "\r 83%|████████▎ | 118/142 [01:07<00:16,  1.44it/s]"
          ]
        },
        {
          "output_type": "stream",
          "name": "stdout",
          "text": [
            "\u001b[1;33m[Open3D WARNING] GLFW Error: X11: The DISPLAY environment variable is missing\u001b[0;m\n",
            "\u001b[1;33m[Open3D WARNING] Failed to initialize GLFW\u001b[0;m\n"
          ]
        },
        {
          "output_type": "stream",
          "name": "stderr",
          "text": [
            " 85%|████████▍ | 120/142 [01:09<00:15,  1.47it/s]"
          ]
        },
        {
          "output_type": "stream",
          "name": "stdout",
          "text": [
            "\u001b[1;33m[Open3D WARNING] GLFW Error: X11: The DISPLAY environment variable is missing\u001b[0;m\n",
            "\u001b[1;33m[Open3D WARNING] Failed to initialize GLFW\u001b[0;m\n"
          ]
        },
        {
          "output_type": "stream",
          "name": "stderr",
          "text": [
            "\r 85%|████████▌ | 121/142 [01:09<00:13,  1.55it/s]"
          ]
        },
        {
          "output_type": "stream",
          "name": "stdout",
          "text": [
            "\u001b[1;33m[Open3D WARNING] GLFW Error: X11: The DISPLAY environment variable is missing\u001b[0;m\n",
            "\u001b[1;33m[Open3D WARNING] Failed to initialize GLFW\u001b[0;m\n"
          ]
        },
        {
          "output_type": "stream",
          "name": "stderr",
          "text": [
            "\r 86%|████████▌ | 122/142 [01:10<00:12,  1.66it/s]"
          ]
        },
        {
          "output_type": "stream",
          "name": "stdout",
          "text": [
            "\u001b[1;33m[Open3D WARNING] GLFW Error: X11: The DISPLAY environment variable is missing\u001b[0;m\n",
            "\u001b[1;33m[Open3D WARNING] Failed to initialize GLFW\u001b[0;m\n",
            "\u001b[1;33m[Open3D WARNING] GLFW Error: X11: The DISPLAY environment variable is missing\u001b[0;m\n",
            "\u001b[1;33m[Open3D WARNING] Failed to initialize GLFW\u001b[0;m\n"
          ]
        },
        {
          "output_type": "stream",
          "name": "stderr",
          "text": [
            "\r 87%|████████▋ | 123/142 [01:10<00:12,  1.54it/s]"
          ]
        },
        {
          "output_type": "stream",
          "name": "stdout",
          "text": [
            "\u001b[1;33m[Open3D WARNING] GLFW Error: X11: The DISPLAY environment variable is missing\u001b[0;m\n",
            "\u001b[1;33m[Open3D WARNING] Failed to initialize GLFW\u001b[0;m\n"
          ]
        },
        {
          "output_type": "stream",
          "name": "stderr",
          "text": [
            "\r 87%|████████▋ | 124/142 [01:11<00:12,  1.43it/s]"
          ]
        },
        {
          "output_type": "stream",
          "name": "stdout",
          "text": [
            "\u001b[1;33m[Open3D WARNING] GLFW Error: X11: The DISPLAY environment variable is missing\u001b[0;m\n",
            "\u001b[1;33m[Open3D WARNING] Failed to initialize GLFW\u001b[0;m\n"
          ]
        },
        {
          "output_type": "stream",
          "name": "stderr",
          "text": [
            "\r 88%|████████▊ | 125/142 [01:12<00:12,  1.38it/s]"
          ]
        },
        {
          "output_type": "stream",
          "name": "stdout",
          "text": [
            "\u001b[1;33m[Open3D WARNING] GLFW Error: X11: The DISPLAY environment variable is missing\u001b[0;m\n",
            "\u001b[1;33m[Open3D WARNING] Failed to initialize GLFW\u001b[0;m\n"
          ]
        },
        {
          "output_type": "stream",
          "name": "stderr",
          "text": [
            "\r 89%|████████▊ | 126/142 [01:13<00:11,  1.36it/s]"
          ]
        },
        {
          "output_type": "stream",
          "name": "stdout",
          "text": [
            "\u001b[1;33m[Open3D WARNING] GLFW Error: X11: The DISPLAY environment variable is missing\u001b[0;m\n",
            "\u001b[1;33m[Open3D WARNING] Failed to initialize GLFW\u001b[0;m\n"
          ]
        },
        {
          "output_type": "stream",
          "name": "stderr",
          "text": [
            "\r 89%|████████▉ | 127/142 [01:14<00:11,  1.32it/s]"
          ]
        },
        {
          "output_type": "stream",
          "name": "stdout",
          "text": [
            "\u001b[1;33m[Open3D WARNING] GLFW Error: X11: The DISPLAY environment variable is missing\u001b[0;m\n",
            "\u001b[1;33m[Open3D WARNING] Failed to initialize GLFW\u001b[0;m\n"
          ]
        },
        {
          "output_type": "stream",
          "name": "stderr",
          "text": [
            "\r 90%|█████████ | 128/142 [01:14<00:10,  1.29it/s]"
          ]
        },
        {
          "output_type": "stream",
          "name": "stdout",
          "text": [
            "\u001b[1;33m[Open3D WARNING] GLFW Error: X11: The DISPLAY environment variable is missing\u001b[0;m\n",
            "\u001b[1;33m[Open3D WARNING] Failed to initialize GLFW\u001b[0;m\n"
          ]
        },
        {
          "output_type": "stream",
          "name": "stderr",
          "text": [
            " 92%|█████████▏| 130/142 [01:16<00:08,  1.34it/s]"
          ]
        },
        {
          "output_type": "stream",
          "name": "stdout",
          "text": [
            "\u001b[1;33m[Open3D WARNING] GLFW Error: X11: The DISPLAY environment variable is missing\u001b[0;m\n",
            "\u001b[1;33m[Open3D WARNING] Failed to initialize GLFW\u001b[0;m\n"
          ]
        },
        {
          "output_type": "stream",
          "name": "stderr",
          "text": [
            "\r 92%|█████████▏| 131/142 [01:16<00:07,  1.49it/s]"
          ]
        },
        {
          "output_type": "stream",
          "name": "stdout",
          "text": [
            "\u001b[1;33m[Open3D WARNING] GLFW Error: X11: The DISPLAY environment variable is missing\u001b[0;m\n",
            "\u001b[1;33m[Open3D WARNING] Failed to initialize GLFW\u001b[0;m\n"
          ]
        },
        {
          "output_type": "stream",
          "name": "stderr",
          "text": [
            "\r 93%|█████████▎| 132/142 [01:17<00:06,  1.59it/s]"
          ]
        },
        {
          "output_type": "stream",
          "name": "stdout",
          "text": [
            "\u001b[1;33m[Open3D WARNING] GLFW Error: X11: The DISPLAY environment variable is missing\u001b[0;m\n",
            "\u001b[1;33m[Open3D WARNING] Failed to initialize GLFW\u001b[0;m\n"
          ]
        },
        {
          "output_type": "stream",
          "name": "stderr",
          "text": [
            "\r 94%|█████████▎| 133/142 [01:17<00:05,  1.68it/s]"
          ]
        },
        {
          "output_type": "stream",
          "name": "stdout",
          "text": [
            "\u001b[1;33m[Open3D WARNING] GLFW Error: X11: The DISPLAY environment variable is missing\u001b[0;m\n",
            "\u001b[1;33m[Open3D WARNING] Failed to initialize GLFW\u001b[0;m\n"
          ]
        },
        {
          "output_type": "stream",
          "name": "stderr",
          "text": [
            "\r 94%|█████████▍| 134/142 [01:18<00:04,  1.75it/s]"
          ]
        },
        {
          "output_type": "stream",
          "name": "stdout",
          "text": [
            "\u001b[1;33m[Open3D WARNING] GLFW Error: X11: The DISPLAY environment variable is missing\u001b[0;m\n",
            "\u001b[1;33m[Open3D WARNING] Failed to initialize GLFW\u001b[0;m\n"
          ]
        },
        {
          "output_type": "stream",
          "name": "stderr",
          "text": [
            "\r 95%|█████████▌| 135/142 [01:18<00:03,  1.80it/s]"
          ]
        },
        {
          "output_type": "stream",
          "name": "stdout",
          "text": [
            "\u001b[1;33m[Open3D WARNING] GLFW Error: X11: The DISPLAY environment variable is missing\u001b[0;m\n",
            "\u001b[1;33m[Open3D WARNING] Failed to initialize GLFW\u001b[0;m\n"
          ]
        },
        {
          "output_type": "stream",
          "name": "stderr",
          "text": [
            "\r 96%|█████████▌| 136/142 [01:19<00:03,  1.85it/s]"
          ]
        },
        {
          "output_type": "stream",
          "name": "stdout",
          "text": [
            "\u001b[1;33m[Open3D WARNING] GLFW Error: X11: The DISPLAY environment variable is missing\u001b[0;m\n",
            "\u001b[1;33m[Open3D WARNING] Failed to initialize GLFW\u001b[0;m\n"
          ]
        },
        {
          "output_type": "stream",
          "name": "stderr",
          "text": [
            "\r 96%|█████████▋| 137/142 [01:19<00:02,  1.88it/s]"
          ]
        },
        {
          "output_type": "stream",
          "name": "stdout",
          "text": [
            "\u001b[1;33m[Open3D WARNING] GLFW Error: X11: The DISPLAY environment variable is missing\u001b[0;m\n",
            "\u001b[1;33m[Open3D WARNING] Failed to initialize GLFW\u001b[0;m\n"
          ]
        },
        {
          "output_type": "stream",
          "name": "stderr",
          "text": [
            "\r 97%|█████████▋| 138/142 [01:20<00:02,  1.89it/s]"
          ]
        },
        {
          "output_type": "stream",
          "name": "stdout",
          "text": [
            "\u001b[1;33m[Open3D WARNING] GLFW Error: X11: The DISPLAY environment variable is missing\u001b[0;m\n",
            "\u001b[1;33m[Open3D WARNING] Failed to initialize GLFW\u001b[0;m\n"
          ]
        },
        {
          "output_type": "stream",
          "name": "stderr",
          "text": [
            "\r 98%|█████████▊| 139/142 [01:20<00:01,  1.92it/s]"
          ]
        },
        {
          "output_type": "stream",
          "name": "stdout",
          "text": [
            "\u001b[1;33m[Open3D WARNING] GLFW Error: X11: The DISPLAY environment variable is missing\u001b[0;m\n",
            "\u001b[1;33m[Open3D WARNING] Failed to initialize GLFW\u001b[0;m\n"
          ]
        },
        {
          "output_type": "stream",
          "name": "stderr",
          "text": [
            "\r 99%|█████████▊| 140/142 [01:21<00:01,  1.92it/s]"
          ]
        },
        {
          "output_type": "stream",
          "name": "stdout",
          "text": [
            "\u001b[1;33m[Open3D WARNING] GLFW Error: X11: The DISPLAY environment variable is missing\u001b[0;m\n",
            "\u001b[1;33m[Open3D WARNING] Failed to initialize GLFW\u001b[0;m\n"
          ]
        },
        {
          "output_type": "stream",
          "name": "stderr",
          "text": [
            "\r 99%|█████████▉| 141/142 [01:22<00:00,  1.93it/s]"
          ]
        },
        {
          "output_type": "stream",
          "name": "stdout",
          "text": [
            "\u001b[1;33m[Open3D WARNING] GLFW Error: X11: The DISPLAY environment variable is missing\u001b[0;m\n",
            "\u001b[1;33m[Open3D WARNING] Failed to initialize GLFW\u001b[0;m\n"
          ]
        },
        {
          "output_type": "stream",
          "name": "stderr",
          "text": [
            "100%|██████████| 142/142 [01:22<00:00,  1.72it/s]"
          ]
        },
        {
          "output_type": "stream",
          "name": "stdout",
          "text": [
            "\u001b[1;33m[Open3D WARNING] GLFW Error: X11: The DISPLAY environment variable is missing\u001b[0;m\n",
            "\u001b[1;33m[Open3D WARNING] Failed to initialize GLFW\u001b[0;m\n"
          ]
        },
        {
          "output_type": "stream",
          "name": "stderr",
          "text": [
            "\n"
          ]
        }
      ]
    },
    {
      "cell_type": "code",
      "source": [
        "def calculate_driving_lines(map_, transformation, name=\"icp\"):\n",
        "\n",
        "  # getting open3d to display the video\n",
        "  vis = o3d.visualization.Visualizer()\n",
        "  vis.create_window(visible=False)\n",
        "\n",
        "  map_pcd = o3d.geometry.PointCloud()\n",
        "  map_pcd.points = o3d.utility.Vector3dVector(map_)\n",
        "  vis.add_geometry(map_pcd)\n",
        "  vis.poll_events()\n",
        "  vis.update_renderer()\n",
        "  # vis.capture_screen_image(\"./results/result_{0}_map_drive_path.png\".format(name))\n",
        "  # vis.destroy_window()\n",
        "\n",
        "  Centers = []\n",
        "  Centers_gt = []\n",
        "  gt_file = open(\"./gt_pose_00.txt\").readlines()\n",
        "\n",
        "\n",
        "  for pc_index in tqdm(range(len(transformation))):\n",
        "      point_cloud = np.array([[0,0,100],[0,0,0]])\n",
        "      pcd = o3d.geometry.PointCloud()\n",
        "      pcd.points = o3d.utility.Vector3dVector(point_cloud)\n",
        "      pcd = pcd.voxel_down_sample(voxel_size=0.1)\n",
        "\n",
        "      for _ in range(pc_index-1,-1,-1):\n",
        "          pcd.transform(transformation[_])\n",
        "\n",
        "      Centers.append(np.asarray(pcd.points)[0][:2])\n",
        "\n",
        "      map_ = np.concatenate([map_, np.array(pcd.points)])\n",
        "\n",
        "      point_cloud = np.array([[0,0,0]])\n",
        "      pcd = o3d.geometry.PointCloud()\n",
        "      pcd.points = o3d.utility.Vector3dVector(point_cloud)\n",
        "      pcd = pcd.voxel_down_sample(voxel_size=0.1)\n",
        "\n",
        "      gt = gt_file[pc_index]\n",
        "      gt = gt.strip()\n",
        "      gt = np.array(list(map(np.float64, gt.split()))).reshape(3, 4)\n",
        "      gt = np.concatenate([gt,np.array([[0,0,0,1]])])\n",
        "      pcd.transform(gt)\n",
        "      Centers_gt.append(np.asarray(pcd.points)[0][:2])\n",
        "\n",
        "\n",
        "      vis = o3d.visualization.Visualizer()\n",
        "      vis.create_window(visible=False)\n",
        "\n",
        "      map_pcd = o3d.geometry.PointCloud()\n",
        "      map_pcd.points = o3d.utility.Vector3dVector(map_)\n",
        "      vis.add_geometry(map_pcd)\n",
        "      vis.poll_events()\n",
        "      vis.update_renderer()\n",
        "      # vis.capture_screen_image(\"./results/result_{1}_world_map_{0}_drive_path.png\".format(pc_index,name))\n",
        "      # vis.destroy_window()\n",
        "\n",
        "  Centers = np.array(Centers)\n",
        "  Centers = Centers / (Centers.max(axis=0) + 0.00000000001)\n",
        "  plt.plot(Centers[:,1],Centers[:,0],label=\"Estimated driving line\")\n",
        "\n",
        "  Centers_gt = np.array(Centers_gt) * (-1)\n",
        "  Centers_gt = Centers_gt / (Centers_gt.max(axis=0) + 0.00000000001)\n",
        "  plt.plot(Centers_gt[:,0],Centers_gt[:,1],label=\"Ground truth driving line\")\n",
        "  plt.title(\"Driving lines\")\n",
        "  plt.ylabel(\"Y axis (Normalized & Aligned)\")\n",
        "  plt.xlabel(\"X axis (Normalized & Aligned)\")\n",
        "\n",
        "  plt.legend()\n",
        "  plt.show()"
      ],
      "metadata": {
        "id": "obdZmHEoT6Dj"
      },
      "execution_count": 37,
      "outputs": []
    },
    {
      "cell_type": "code",
      "source": [
        "map_ = res[0]\n",
        "transformation = res[1]\n",
        "calculate_driving_lines(map_, transformation, name=\"icp\")"
      ],
      "metadata": {
        "colab": {
          "base_uri": "https://localhost:8080/",
          "height": 1000
        },
        "id": "rLGjMGRHVt2v",
        "outputId": "2003a923-6161-4d00-f0be-7db6089b108a"
      },
      "execution_count": 38,
      "outputs": [
        {
          "output_type": "stream",
          "name": "stdout",
          "text": [
            "\u001b[1;33m[Open3D WARNING] GLFW Error: X11: The DISPLAY environment variable is missing\u001b[0;m\n",
            "\u001b[1;33m[Open3D WARNING] Failed to initialize GLFW\u001b[0;m\n"
          ]
        },
        {
          "output_type": "stream",
          "name": "stderr",
          "text": [
            "  7%|▋         | 10/142 [00:00<00:01, 96.74it/s]"
          ]
        },
        {
          "output_type": "stream",
          "name": "stdout",
          "text": [
            "\u001b[1;33m[Open3D WARNING] GLFW Error: X11: The DISPLAY environment variable is missing\u001b[0;m\n",
            "\u001b[1;33m[Open3D WARNING] Failed to initialize GLFW\u001b[0;m\n",
            "\u001b[1;33m[Open3D WARNING] GLFW Error: X11: The DISPLAY environment variable is missing\u001b[0;m\n",
            "\u001b[1;33m[Open3D WARNING] Failed to initialize GLFW\u001b[0;m\n",
            "\u001b[1;33m[Open3D WARNING] GLFW Error: X11: The DISPLAY environment variable is missing\u001b[0;m\n",
            "\u001b[1;33m[Open3D WARNING] Failed to initialize GLFW\u001b[0;m\n",
            "\u001b[1;33m[Open3D WARNING] GLFW Error: X11: The DISPLAY environment variable is missing\u001b[0;m\n",
            "\u001b[1;33m[Open3D WARNING] Failed to initialize GLFW\u001b[0;m\n",
            "\u001b[1;33m[Open3D WARNING] GLFW Error: X11: The DISPLAY environment variable is missing\u001b[0;m\n",
            "\u001b[1;33m[Open3D WARNING] Failed to initialize GLFW\u001b[0;m\n",
            "\u001b[1;33m[Open3D WARNING] GLFW Error: X11: The DISPLAY environment variable is missing\u001b[0;m\n",
            "\u001b[1;33m[Open3D WARNING] Failed to initialize GLFW\u001b[0;m\n",
            "\u001b[1;33m[Open3D WARNING] GLFW Error: X11: The DISPLAY environment variable is missing\u001b[0;m\n",
            "\u001b[1;33m[Open3D WARNING] Failed to initialize GLFW\u001b[0;m\n",
            "\u001b[1;33m[Open3D WARNING] GLFW Error: X11: The DISPLAY environment variable is missing\u001b[0;m\n",
            "\u001b[1;33m[Open3D WARNING] Failed to initialize GLFW\u001b[0;m\n",
            "\u001b[1;33m[Open3D WARNING] GLFW Error: X11: The DISPLAY environment variable is missing\u001b[0;m\n",
            "\u001b[1;33m[Open3D WARNING] Failed to initialize GLFW\u001b[0;m\n",
            "\u001b[1;33m[Open3D WARNING] GLFW Error: X11: The DISPLAY environment variable is missing\u001b[0;m\n",
            "\u001b[1;33m[Open3D WARNING] Failed to initialize GLFW\u001b[0;m\n",
            "\u001b[1;33m[Open3D WARNING] GLFW Error: X11: The DISPLAY environment variable is missing\u001b[0;m\n",
            "\u001b[1;33m[Open3D WARNING] Failed to initialize GLFW\u001b[0;m\n",
            "\u001b[1;33m[Open3D WARNING] GLFW Error: X11: The DISPLAY environment variable is missing\u001b[0;m\n",
            "\u001b[1;33m[Open3D WARNING] Failed to initialize GLFW\u001b[0;m\n",
            "\u001b[1;33m[Open3D WARNING] GLFW Error: X11: The DISPLAY environment variable is missing\u001b[0;m\n",
            "\u001b[1;33m[Open3D WARNING] Failed to initialize GLFW\u001b[0;m\n",
            "\u001b[1;33m[Open3D WARNING] GLFW Error: X11: The DISPLAY environment variable is missing\u001b[0;m\n",
            "\u001b[1;33m[Open3D WARNING] Failed to initialize GLFW\u001b[0;m\n",
            "\u001b[1;33m[Open3D WARNING] GLFW Error: X11: The DISPLAY environment variable is missing\u001b[0;m\n",
            "\u001b[1;33m[Open3D WARNING] Failed to initialize GLFW\u001b[0;m\n",
            "\u001b[1;33m[Open3D WARNING] GLFW Error: X11: The DISPLAY environment variable is missing\u001b[0;m\n",
            "\u001b[1;33m[Open3D WARNING] Failed to initialize GLFW\u001b[0;m\n",
            "\u001b[1;33m[Open3D WARNING] GLFW Error: X11: The DISPLAY environment variable is missing\u001b[0;m\n",
            "\u001b[1;33m[Open3D WARNING] Failed to initialize GLFW\u001b[0;m\n",
            "\u001b[1;33m[Open3D WARNING] GLFW Error: X11: The DISPLAY environment variable is missing\u001b[0;m\n",
            "\u001b[1;33m[Open3D WARNING] Failed to initialize GLFW\u001b[0;m\n",
            "\u001b[1;33m[Open3D WARNING] GLFW Error: X11: The DISPLAY environment variable is missing\u001b[0;m\n",
            "\u001b[1;33m[Open3D WARNING] Failed to initialize GLFW\u001b[0;m\n",
            "\u001b[1;33m[Open3D WARNING] GLFW Error: X11: The DISPLAY environment variable is missing\u001b[0;m\n",
            "\u001b[1;33m[Open3D WARNING] Failed to initialize GLFW\u001b[0;m\n",
            "\u001b[1;33m[Open3D WARNING] GLFW Error: X11: The DISPLAY environment variable is missing\u001b[0;m\n",
            "\u001b[1;33m[Open3D WARNING] Failed to initialize GLFW\u001b[0;m\n",
            "\u001b[1;33m[Open3D WARNING] GLFW Error: X11: The DISPLAY environment variable is missing\u001b[0;m\n",
            "\u001b[1;33m[Open3D WARNING] Failed to initialize GLFW\u001b[0;m\n"
          ]
        },
        {
          "output_type": "stream",
          "name": "stderr",
          "text": [
            "\r 22%|██▏       | 31/142 [00:00<00:00, 162.42it/s]"
          ]
        },
        {
          "output_type": "stream",
          "name": "stdout",
          "text": [
            "\u001b[1;33m[Open3D WARNING] GLFW Error: X11: The DISPLAY environment variable is missing\u001b[0;m\n",
            "\u001b[1;33m[Open3D WARNING] Failed to initialize GLFW\u001b[0;m\n",
            "\u001b[1;33m[Open3D WARNING] GLFW Error: X11: The DISPLAY environment variable is missing\u001b[0;m\n",
            "\u001b[1;33m[Open3D WARNING] Failed to initialize GLFW\u001b[0;m\n",
            "\u001b[1;33m[Open3D WARNING] GLFW Error: X11: The DISPLAY environment variable is missing\u001b[0;m\n",
            "\u001b[1;33m[Open3D WARNING] Failed to initialize GLFW\u001b[0;m\n",
            "\u001b[1;33m[Open3D WARNING] GLFW Error: X11: The DISPLAY environment variable is missing\u001b[0;m\n",
            "\u001b[1;33m[Open3D WARNING] Failed to initialize GLFW\u001b[0;m\n",
            "\u001b[1;33m[Open3D WARNING] GLFW Error: X11: The DISPLAY environment variable is missing\u001b[0;m\n",
            "\u001b[1;33m[Open3D WARNING] Failed to initialize GLFW\u001b[0;m\n",
            "\u001b[1;33m[Open3D WARNING] GLFW Error: X11: The DISPLAY environment variable is missing\u001b[0;m\n",
            "\u001b[1;33m[Open3D WARNING] Failed to initialize GLFW\u001b[0;m\n",
            "\u001b[1;33m[Open3D WARNING] GLFW Error: X11: The DISPLAY environment variable is missing\u001b[0;m\n",
            "\u001b[1;33m[Open3D WARNING] Failed to initialize GLFW\u001b[0;m\n",
            "\u001b[1;33m[Open3D WARNING] GLFW Error: X11: The DISPLAY environment variable is missing\u001b[0;m\n",
            "\u001b[1;33m[Open3D WARNING] Failed to initialize GLFW\u001b[0;m\n",
            "\u001b[1;33m[Open3D WARNING] GLFW Error: X11: The DISPLAY environment variable is missing\u001b[0;m\n",
            "\u001b[1;33m[Open3D WARNING] Failed to initialize GLFW\u001b[0;m\n",
            "\u001b[1;33m[Open3D WARNING] GLFW Error: X11: The DISPLAY environment variable is missing\u001b[0;m\n",
            "\u001b[1;33m[Open3D WARNING] Failed to initialize GLFW\u001b[0;m\n",
            "\u001b[1;33m[Open3D WARNING] GLFW Error: X11: The DISPLAY environment variable is missing\u001b[0;m\n",
            "\u001b[1;33m[Open3D WARNING] Failed to initialize GLFW\u001b[0;m\n",
            "\u001b[1;33m[Open3D WARNING] GLFW Error: X11: The DISPLAY environment variable is missing\u001b[0;m\n",
            "\u001b[1;33m[Open3D WARNING] Failed to initialize GLFW\u001b[0;m\n",
            "\u001b[1;33m[Open3D WARNING] GLFW Error: X11: The DISPLAY environment variable is missing\u001b[0;m\n",
            "\u001b[1;33m[Open3D WARNING] Failed to initialize GLFW\u001b[0;m\n",
            "\u001b[1;33m[Open3D WARNING] GLFW Error: X11: The DISPLAY environment variable is missing\u001b[0;m\n",
            "\u001b[1;33m[Open3D WARNING] Failed to initialize GLFW\u001b[0;m"
          ]
        },
        {
          "output_type": "stream",
          "name": "stderr",
          "text": [
            "\r 45%|████▌     | 64/142 [00:00<00:00, 236.65it/s]"
          ]
        },
        {
          "output_type": "stream",
          "name": "stdout",
          "text": [
            "\n",
            "\u001b[1;33m[Open3D WARNING] GLFW Error: X11: The DISPLAY environment variable is missing\u001b[0;m\n",
            "\u001b[1;33m[Open3D WARNING] Failed to initialize GLFW\u001b[0;m\n",
            "\u001b[1;33m[Open3D WARNING] GLFW Error: X11: The DISPLAY environment variable is missing\u001b[0;m\n",
            "\u001b[1;33m[Open3D WARNING] Failed to initialize GLFW\u001b[0;m\n",
            "\u001b[1;33m[Open3D WARNING] GLFW Error: X11: The DISPLAY environment variable is missing\u001b[0;m\n",
            "\u001b[1;33m[Open3D WARNING] Failed to initialize GLFW\u001b[0;m\n",
            "\u001b[1;33m[Open3D WARNING] GLFW Error: X11: The DISPLAY environment variable is missing\u001b[0;m\n",
            "\u001b[1;33m[Open3D WARNING] Failed to initialize GLFW\u001b[0;m\n",
            "\u001b[1;33m[Open3D WARNING] GLFW Error: X11: The DISPLAY environment variable is missing\u001b[0;m\n",
            "\u001b[1;33m[Open3D WARNING] Failed to initialize GLFW\u001b[0;m\n",
            "\u001b[1;33m[Open3D WARNING] GLFW Error: X11: The DISPLAY environment variable is missing\u001b[0;m\n",
            "\u001b[1;33m[Open3D WARNING] Failed to initialize GLFW\u001b[0;m\n",
            "\u001b[1;33m[Open3D WARNING] GLFW Error: X11: The DISPLAY environment variable is missing\u001b[0;m\n",
            "\u001b[1;33m[Open3D WARNING] Failed to initialize GLFW\u001b[0;m\n",
            "\u001b[1;33m[Open3D WARNING] GLFW Error: X11: The DISPLAY environment variable is missing\u001b[0;m\n",
            "\u001b[1;33m[Open3D WARNING] Failed to initialize GLFW\u001b[0;m\n",
            "\u001b[1;33m[Open3D WARNING] GLFW Error: X11: The DISPLAY environment variable is missing\u001b[0;m\n",
            "\u001b[1;33m[Open3D WARNING] Failed to initialize GLFW\u001b[0;m\n",
            "\u001b[1;33m[Open3D WARNING] GLFW Error: X11: The DISPLAY environment variable is missing\u001b[0;m\n",
            "\u001b[1;33m[Open3D WARNING] Failed to initialize GLFW\u001b[0;m\n",
            "\u001b[1;33m[Open3D WARNING] GLFW Error: X11: The DISPLAY environment variable is missing\u001b[0;m\n",
            "\u001b[1;33m[Open3D WARNING] Failed to initialize GLFW\u001b[0;m\n",
            "\u001b[1;33m[Open3D WARNING] GLFW Error: X11: The DISPLAY environment variable is missing\u001b[0;m\n",
            "\u001b[1;33m[Open3D WARNING] Failed to initialize GLFW\u001b[0;m\n",
            "\u001b[1;33m[Open3D WARNING] GLFW Error: X11: The DISPLAY environment variable is missing\u001b[0;m\n",
            "\u001b[1;33m[Open3D WARNING] Failed to initialize GLFW\u001b[0;m\n",
            "\u001b[1;33m[Open3D WARNING] GLFW Error: X11: The DISPLAY environment variable is missing\u001b[0;m\n",
            "\u001b[1;33m[Open3D WARNING] Failed to initialize GLFW\u001b[0;m\n",
            "\u001b[1;33m[Open3D WARNING] GLFW Error: X11: The DISPLAY environment variable is missing\u001b[0;m\n",
            "\u001b[1;33m[Open3D WARNING] Failed to initialize GLFW\u001b[0;m\n",
            "\u001b[1;33m[Open3D WARNING] GLFW Error: X11: The DISPLAY environment variable is missing\u001b[0;m\n",
            "\u001b[1;33m[Open3D WARNING] Failed to initialize GLFW\u001b[0;m\n",
            "\u001b[1;33m[Open3D WARNING] GLFW Error: X11: The DISPLAY environment variable is missing\u001b[0;m\n",
            "\u001b[1;33m[Open3D WARNING] Failed to initialize GLFW\u001b[0;m\n",
            "\u001b[1;33m[Open3D WARNING] GLFW Error: X11: The DISPLAY environment variable is missing\u001b[0;m\n",
            "\u001b[1;33m[Open3D WARNING] Failed to initialize GLFW\u001b[0;m\n",
            "\u001b[1;33m[Open3D WARNING] GLFW Error: X11: The DISPLAY environment variable is missing\u001b[0;m\n",
            "\u001b[1;33m[Open3D WARNING] Failed to initialize GLFW\u001b[0;m\n",
            "\u001b[1;33m[Open3D WARNING] GLFW Error: X11: The DISPLAY environment variable is missing\u001b[0;m\n",
            "\u001b[1;33m[Open3D WARNING] Failed to initialize GLFW\u001b[0;m\n",
            "\u001b[1;33m[Open3D WARNING] GLFW Error: X11: The DISPLAY environment variable is missing\u001b[0;m\n",
            "\u001b[1;33m[Open3D WARNING] Failed to initialize GLFW\u001b[0;m\n",
            "\u001b[1;33m[Open3D WARNING] GLFW Error: X11: The DISPLAY environment variable is missing\u001b[0;m\n",
            "\u001b[1;33m[Open3D WARNING] Failed to initialize GLFW\u001b[0;m\n",
            "\u001b[1;33m[Open3D WARNING] GLFW Error: X11: The DISPLAY environment variable is missing\u001b[0;m\n",
            "\u001b[1;33m[Open3D WARNING] Failed to initialize GLFW\u001b[0;m\n",
            "\u001b[1;33m[Open3D WARNING] GLFW Error: X11: The DISPLAY environment variable is missing\u001b[0;m\n",
            "\u001b[1;33m[Open3D WARNING] Failed to initialize GLFW\u001b[0;m\n",
            "\u001b[1;33m[Open3D WARNING] GLFW Error: X11: The DISPLAY environment variable is missing\u001b[0;m\n",
            "\u001b[1;33m[Open3D WARNING] Failed to initialize GLFW\u001b[0;m\n",
            "\u001b[1;33m[Open3D WARNING] GLFW Error: X11: The DISPLAY environment variable is missing\u001b[0;m\n",
            "\u001b[1;33m[Open3D WARNING] Failed to initialize GLFW\u001b[0;m\n",
            "\u001b[1;33m[Open3D WARNING] GLFW Error: X11: The DISPLAY environment variable is missing\u001b[0;m\n",
            "\u001b[1;33m[Open3D WARNING] Failed to initialize GLFW\u001b[0;m\n",
            "\u001b[1;33m[Open3D WARNING] GLFW Error: X11: The DISPLAY environment variable is missing\u001b[0;m\n",
            "\u001b[1;33m[Open3D WARNING] Failed to initialize GLFW\u001b[0;m\n",
            "\u001b[1;33m[Open3D WARNING] GLFW Error: X11: The DISPLAY environment variable is missing\u001b[0;m\n",
            "\u001b[1;33m[Open3D WARNING] Failed to initialize GLFW\u001b[0;m\n",
            "\u001b[1;33m[Open3D WARNING] GLFW Error: X11: The DISPLAY environment variable is missing\u001b[0;m\n",
            "\u001b[1;33m[Open3D WARNING] Failed to initialize GLFW\u001b[0;m\n",
            "\u001b[1;33m[Open3D WARNING] GLFW Error: X11: The DISPLAY environment variable is missing\u001b[0;m\n",
            "\u001b[1;33m[Open3D WARNING] Failed to initialize GLFW\u001b[0;m\n",
            "\u001b[1;33m[Open3D WARNING] GLFW Error: X11: The DISPLAY environment variable is missing\u001b[0;m\n",
            "\u001b[1;33m[Open3D WARNING] Failed to initialize GLFW\u001b[0;m\n",
            "\u001b[1;33m[Open3D WARNING] GLFW Error: X11: The DISPLAY environment variable is missing\u001b[0;m\n",
            "\u001b[1;33m[Open3D WARNING] Failed to initialize GLFW\u001b[0;m\n",
            "\u001b[1;33m[Open3D WARNING] GLFW Error: X11: The DISPLAY environment variable is missing\u001b[0;m\n",
            "\u001b[1;33m[Open3D WARNING] Failed to initialize GLFW\u001b[0;m\n",
            "\u001b[1;33m[Open3D WARNING] GLFW Error: X11: The DISPLAY environment variable is missing\u001b[0;m\n",
            "\u001b[1;33m[Open3D WARNING] Failed to initialize GLFW\u001b[0;m\n",
            "\u001b[1;33m[Open3D WARNING] GLFW Error: X11: The DISPLAY environment variable is missing\u001b[0;m\n",
            "\u001b[1;33m[Open3D WARNING] Failed to initialize GLFW\u001b[0;m\n",
            "\u001b[1;33m[Open3D WARNING] GLFW Error: X11: The DISPLAY environment variable is missing\u001b[0;m\n",
            "\u001b[1;33m[Open3D WARNING] Failed to initialize GLFW\u001b[0;m\n",
            "\u001b[1;33m[Open3D WARNING] GLFW Error: X11: The DISPLAY environment variable is missing\u001b[0;m\n",
            "\u001b[1;33m[Open3D WARNING] Failed to initialize GLFW\u001b[0;m\n",
            "\u001b[1;33m[Open3D WARNING] GLFW Error: X11: The DISPLAY environment variable is missing\u001b[0;m\n",
            "\u001b[1;33m[Open3D WARNING] Failed to initialize GLFW\u001b[0;m\n",
            "\u001b[1;33m[Open3D WARNING] GLFW Error: X11: The DISPLAY environment variable is missing\u001b[0;m\n",
            "\u001b[1;33m[Open3D WARNING] Failed to initialize GLFW\u001b[0;m\n",
            "\u001b[1;33m[Open3D WARNING] GLFW Error: X11: The DISPLAY environment variable is missing\u001b[0;m\n",
            "\u001b[1;33m[Open3D WARNING] Failed to initialize GLFW\u001b[0;m\n",
            "\u001b[1;33m[Open3D WARNING] GLFW Error: X11: The DISPLAY environment variable is missing\u001b[0;m\n",
            "\u001b[1;33m[Open3D WARNING] Failed to initialize GLFW\u001b[0;m\n",
            "\u001b[1;33m[Open3D WARNING] GLFW Error: X11: The DISPLAY environment variable is missing\u001b[0;m\n",
            "\u001b[1;33m[Open3D WARNING] Failed to initialize GLFW\u001b[0;m\n",
            "\u001b[1;33m[Open3D WARNING] GLFW Error: X11: The DISPLAY environment variable is missing\u001b[0;m\n",
            "\u001b[1;33m[Open3D WARNING] Failed to initialize GLFW\u001b[0;m\n",
            "\u001b[1;33m[Open3D WARNING] GLFW Error: X11: The DISPLAY environment variable is missing\u001b[0;m\n",
            "\u001b[1;33m[Open3D WARNING] Failed to initialize GLFW\u001b[0;m\n",
            "\u001b[1;33m[Open3D WARNING] GLFW Error: X11: The DISPLAY environment variable is missing\u001b[0;m\n",
            "\u001b[1;33m[Open3D WARNING] Failed to initialize GLFW\u001b[0;m\n",
            "\u001b[1;33m[Open3D WARNING] GLFW Error: X11: The DISPLAY environment variable is missing\u001b[0;m\n",
            "\u001b[1;33m[Open3D WARNING] Failed to initialize GLFW\u001b[0;m\n",
            "\u001b[1;33m[Open3D WARNING] GLFW Error: X11: The DISPLAY environment variable is missing\u001b[0;m\n",
            "\u001b[1;33m[Open3D WARNING] Failed to initialize GLFW\u001b[0;m\n",
            "\u001b[1;33m[Open3D WARNING] GLFW Error: X11: The DISPLAY environment variable is missing\u001b[0;m\n",
            "\u001b[1;33m[Open3D WARNING] Failed to initialize GLFW\u001b[0;m\n",
            "\u001b[1;33m[Open3D WARNING] GLFW Error: X11: The DISPLAY environment variable is missing\u001b[0;m\n",
            "\u001b[1;33m[Open3D WARNING] Failed to initialize GLFW\u001b[0;m\n",
            "\u001b[1;33m[Open3D WARNING] GLFW Error: X11: The DISPLAY environment variable is missing\u001b[0;m\n",
            "\u001b[1;33m[Open3D WARNING] Failed to initialize GLFW\u001b[0;m\n",
            "\u001b[1;33m[Open3D WARNING] GLFW Error: X11: The DISPLAY environment variable is missing\u001b[0;m\n",
            "\u001b[1;33m[Open3D WARNING] Failed to initialize GLFW\u001b[0;m\n",
            "\u001b[1;33m[Open3D WARNING] GLFW Error: X11: The DISPLAY environment variable is missing\u001b[0;m\n",
            "\u001b[1;33m[Open3D WARNING] Failed to initialize GLFW\u001b[0;m\n",
            "\u001b[1;33m[Open3D WARNING] GLFW Error: X11: The DISPLAY environment variable is missing\u001b[0;m\n",
            "\u001b[1;33m[Open3D WARNING] Failed to initialize GLFW\u001b[0;m\n",
            "\u001b[1;33m[Open3D WARNING] GLFW Error: X11: The DISPLAY environment variable is missing\u001b[0;m\n",
            "\u001b[1;33m[Open3D WARNING] Failed to initialize GLFW\u001b[0;m\n"
          ]
        },
        {
          "output_type": "stream",
          "name": "stderr",
          "text": [
            "\r 66%|██████▌   | 94/142 [00:00<00:00, 260.89it/s]"
          ]
        },
        {
          "output_type": "stream",
          "name": "stdout",
          "text": [
            "\u001b[1;33m[Open3D WARNING] GLFW Error: X11: The DISPLAY environment variable is missing\u001b[0;m\n",
            "\u001b[1;33m[Open3D WARNING] Failed to initialize GLFW\u001b[0;m\n",
            "\u001b[1;33m[Open3D WARNING] GLFW Error: X11: The DISPLAY environment variable is missing\u001b[0;m\n",
            "\u001b[1;33m[Open3D WARNING] Failed to initialize GLFW\u001b[0;m\n",
            "\u001b[1;33m[Open3D WARNING] GLFW Error: X11: The DISPLAY environment variable is missing\u001b[0;m\n",
            "\u001b[1;33m[Open3D WARNING] Failed to initialize GLFW\u001b[0;m\n",
            "\u001b[1;33m[Open3D WARNING] GLFW Error: X11: The DISPLAY environment variable is missing\u001b[0;m\n",
            "\u001b[1;33m[Open3D WARNING] Failed to initialize GLFW\u001b[0;m\n",
            "\u001b[1;33m[Open3D WARNING] GLFW Error: X11: The DISPLAY environment variable is missing\u001b[0;m\n",
            "\u001b[1;33m[Open3D WARNING] Failed to initialize GLFW\u001b[0;m\n",
            "\u001b[1;33m[Open3D WARNING] GLFW Error: X11: The DISPLAY environment variable is missing\u001b[0;m\n",
            "\u001b[1;33m[Open3D WARNING] Failed to initialize GLFW\u001b[0;m\n",
            "\u001b[1;33m[Open3D WARNING] GLFW Error: X11: The DISPLAY environment variable is missing\u001b[0;m\n",
            "\u001b[1;33m[Open3D WARNING] Failed to initialize GLFW\u001b[0;m\n",
            "\u001b[1;33m[Open3D WARNING] GLFW Error: X11: The DISPLAY environment variable is missing\u001b[0;m\n",
            "\u001b[1;33m[Open3D WARNING] Failed to initialize GLFW\u001b[0;m\n",
            "\u001b[1;33m[Open3D WARNING] GLFW Error: X11: The DISPLAY environment variable is missing\u001b[0;m\n",
            "\u001b[1;33m[Open3D WARNING] Failed to initialize GLFW\u001b[0;m\n",
            "\u001b[1;33m[Open3D WARNING] GLFW Error: X11: The DISPLAY environment variable is missing\u001b[0;m\n",
            "\u001b[1;33m[Open3D WARNING] Failed to initialize GLFW\u001b[0;m\n",
            "\u001b[1;33m[Open3D WARNING] GLFW Error: X11: The DISPLAY environment variable is missing\u001b[0;m\n"
          ]
        },
        {
          "output_type": "stream",
          "name": "stderr",
          "text": [
            "100%|██████████| 142/142 [00:00<00:00, 241.42it/s]"
          ]
        },
        {
          "output_type": "stream",
          "name": "stdout",
          "text": [
            "\u001b[1;33m[Open3D WARNING] Failed to initialize GLFW\u001b[0;m\n",
            "\u001b[1;33m[Open3D WARNING] GLFW Error: X11: The DISPLAY environment variable is missing\u001b[0;m\n",
            "\u001b[1;33m[Open3D WARNING] Failed to initialize GLFW\u001b[0;m\n",
            "\u001b[1;33m[Open3D WARNING] GLFW Error: X11: The DISPLAY environment variable is missing\u001b[0;m\n",
            "\u001b[1;33m[Open3D WARNING] Failed to initialize GLFW\u001b[0;m\n",
            "\u001b[1;33m[Open3D WARNING] GLFW Error: X11: The DISPLAY environment variable is missing\u001b[0;m\n",
            "\u001b[1;33m[Open3D WARNING] Failed to initialize GLFW\u001b[0;m\n",
            "\u001b[1;33m[Open3D WARNING] GLFW Error: X11: The DISPLAY environment variable is missing\u001b[0;m\n",
            "\u001b[1;33m[Open3D WARNING] Failed to initialize GLFW\u001b[0;m\n",
            "\u001b[1;33m[Open3D WARNING] GLFW Error: X11: The DISPLAY environment variable is missing\u001b[0;m\n",
            "\u001b[1;33m[Open3D WARNING] Failed to initialize GLFW\u001b[0;m\n",
            "\u001b[1;33m[Open3D WARNING] GLFW Error: X11: The DISPLAY environment variable is missing\u001b[0;m\n",
            "\u001b[1;33m[Open3D WARNING] Failed to initialize GLFW\u001b[0;m\n",
            "\u001b[1;33m[Open3D WARNING] GLFW Error: X11: The DISPLAY environment variable is missing\u001b[0;m\n",
            "\u001b[1;33m[Open3D WARNING] Failed to initialize GLFW\u001b[0;m\n",
            "\u001b[1;33m[Open3D WARNING] GLFW Error: X11: The DISPLAY environment variable is missing\u001b[0;m\n",
            "\u001b[1;33m[Open3D WARNING] Failed to initialize GLFW\u001b[0;m\n",
            "\u001b[1;33m[Open3D WARNING] GLFW Error: X11: The DISPLAY environment variable is missing\u001b[0;m\n",
            "\u001b[1;33m[Open3D WARNING] Failed to initialize GLFW\u001b[0;m\n",
            "\u001b[1;33m[Open3D WARNING] GLFW Error: X11: The DISPLAY environment variable is missing\u001b[0;m\n",
            "\u001b[1;33m[Open3D WARNING] Failed to initialize GLFW\u001b[0;m\n",
            "\u001b[1;33m[Open3D WARNING] GLFW Error: X11: The DISPLAY environment variable is missing\u001b[0;m\n",
            "\u001b[1;33m[Open3D WARNING] Failed to initialize GLFW\u001b[0;m\n",
            "\u001b[1;33m[Open3D WARNING] GLFW Error: X11: The DISPLAY environment variable is missing\u001b[0;m\n",
            "\u001b[1;33m[Open3D WARNING] Failed to initialize GLFW\u001b[0;m\n",
            "\u001b[1;33m[Open3D WARNING] GLFW Error: X11: The DISPLAY environment variable is missing\u001b[0;m\n",
            "\u001b[1;33m[Open3D WARNING] Failed to initialize GLFW\u001b[0;m\n",
            "\u001b[1;33m[Open3D WARNING] GLFW Error: X11: The DISPLAY environment variable is missing\u001b[0;m\n",
            "\u001b[1;33m[Open3D WARNING] Failed to initialize GLFW\u001b[0;m\n",
            "\u001b[1;33m[Open3D WARNING] GLFW Error: X11: The DISPLAY environment variable is missing\u001b[0;m\n",
            "\u001b[1;33m[Open3D WARNING] Failed to initialize GLFW\u001b[0;m\n",
            "\u001b[1;33m[Open3D WARNING] GLFW Error: X11: The DISPLAY environment variable is missing\u001b[0;m\n",
            "\u001b[1;33m[Open3D WARNING] Failed to initialize GLFW\u001b[0;m\n",
            "\u001b[1;33m[Open3D WARNING] GLFW Error: X11: The DISPLAY environment variable is missing\u001b[0;m\n",
            "\u001b[1;33m[Open3D WARNING] Failed to initialize GLFW\u001b[0;m\n",
            "\u001b[1;33m[Open3D WARNING] GLFW Error: X11: The DISPLAY environment variable is missing\u001b[0;m\n",
            "\u001b[1;33m[Open3D WARNING] Failed to initialize GLFW\u001b[0;m\n",
            "\u001b[1;33m[Open3D WARNING] GLFW Error: X11: The DISPLAY environment variable is missing\u001b[0;m\n",
            "\u001b[1;33m[Open3D WARNING] Failed to initialize GLFW\u001b[0;m\n",
            "\u001b[1;33m[Open3D WARNING] GLFW Error: X11: The DISPLAY environment variable is missing\u001b[0;m\n",
            "\u001b[1;33m[Open3D WARNING] Failed to initialize GLFW\u001b[0;m\n",
            "\u001b[1;33m[Open3D WARNING] GLFW Error: X11: The DISPLAY environment variable is missing\u001b[0;m\n",
            "\u001b[1;33m[Open3D WARNING] Failed to initialize GLFW\u001b[0;m\n",
            "\u001b[1;33m[Open3D WARNING] GLFW Error: X11: The DISPLAY environment variable is missing\u001b[0;m\n",
            "\u001b[1;33m[Open3D WARNING] Failed to initialize GLFW\u001b[0;m\n",
            "\u001b[1;33m[Open3D WARNING] GLFW Error: X11: The DISPLAY environment variable is missing\u001b[0;m\n",
            "\u001b[1;33m[Open3D WARNING] Failed to initialize GLFW\u001b[0;m\n",
            "\u001b[1;33m[Open3D WARNING] GLFW Error: X11: The DISPLAY environment variable is missing\u001b[0;m\n",
            "\u001b[1;33m[Open3D WARNING] Failed to initialize GLFW\u001b[0;m\n",
            "\u001b[1;33m[Open3D WARNING] GLFW Error: X11: The DISPLAY environment variable is missing\u001b[0;m\n",
            "\u001b[1;33m[Open3D WARNING] Failed to initialize GLFW\u001b[0;m\n",
            "\u001b[1;33m[Open3D WARNING] GLFW Error: X11: The DISPLAY environment variable is missing\u001b[0;m\n",
            "\u001b[1;33m[Open3D WARNING] Failed to initialize GLFW\u001b[0;m\n",
            "\u001b[1;33m[Open3D WARNING] GLFW Error: X11: The DISPLAY environment variable is missing\u001b[0;m\n",
            "\u001b[1;33m[Open3D WARNING] Failed to initialize GLFW\u001b[0;m\n",
            "\u001b[1;33m[Open3D WARNING] GLFW Error: X11: The DISPLAY environment variable is missing\u001b[0;m\n",
            "\u001b[1;33m[Open3D WARNING] Failed to initialize GLFW\u001b[0;m\n",
            "\u001b[1;33m[Open3D WARNING] GLFW Error: X11: The DISPLAY environment variable is missing\u001b[0;m\n",
            "\u001b[1;33m[Open3D WARNING] Failed to initialize GLFW\u001b[0;m\n",
            "\u001b[1;33m[Open3D WARNING] GLFW Error: X11: The DISPLAY environment variable is missing\u001b[0;m\n",
            "\u001b[1;33m[Open3D WARNING] Failed to initialize GLFW\u001b[0;m\n",
            "\u001b[1;33m[Open3D WARNING] GLFW Error: X11: The DISPLAY environment variable is missing\u001b[0;m\n",
            "\u001b[1;33m[Open3D WARNING] Failed to initialize GLFW\u001b[0;m\n",
            "\u001b[1;33m[Open3D WARNING] GLFW Error: X11: The DISPLAY environment variable is missing\u001b[0;m\n",
            "\u001b[1;33m[Open3D WARNING] Failed to initialize GLFW\u001b[0;m\n",
            "\u001b[1;33m[Open3D WARNING] GLFW Error: X11: The DISPLAY environment variable is missing\u001b[0;m\n",
            "\u001b[1;33m[Open3D WARNING] Failed to initialize GLFW\u001b[0;m\n",
            "\u001b[1;33m[Open3D WARNING] GLFW Error: X11: The DISPLAY environment variable is missing\u001b[0;m\n",
            "\u001b[1;33m[Open3D WARNING] Failed to initialize GLFW\u001b[0;m\n",
            "\u001b[1;33m[Open3D WARNING] GLFW Error: X11: The DISPLAY environment variable is missing\u001b[0;m\n",
            "\u001b[1;33m[Open3D WARNING] Failed to initialize GLFW\u001b[0;m\n",
            "\u001b[1;33m[Open3D WARNING] GLFW Error: X11: The DISPLAY environment variable is missing\u001b[0;m\n",
            "\u001b[1;33m[Open3D WARNING] Failed to initialize GLFW\u001b[0;m\n",
            "\u001b[1;33m[Open3D WARNING] GLFW Error: X11: The DISPLAY environment variable is missing\u001b[0;m\n",
            "\u001b[1;33m[Open3D WARNING] Failed to initialize GLFW\u001b[0;m\n",
            "\u001b[1;33m[Open3D WARNING] GLFW Error: X11: The DISPLAY environment variable is missing\u001b[0;m\n",
            "\u001b[1;33m[Open3D WARNING] Failed to initialize GLFW\u001b[0;m\n",
            "\u001b[1;33m[Open3D WARNING] GLFW Error: X11: The DISPLAY environment variable is missing\u001b[0;m\n",
            "\u001b[1;33m[Open3D WARNING] Failed to initialize GLFW\u001b[0;m\n",
            "\u001b[1;33m[Open3D WARNING] GLFW Error: X11: The DISPLAY environment variable is missing\u001b[0;m\n",
            "\u001b[1;33m[Open3D WARNING] Failed to initialize GLFW\u001b[0;m\n"
          ]
        },
        {
          "output_type": "stream",
          "name": "stderr",
          "text": [
            "\n"
          ]
        },
        {
          "output_type": "display_data",
          "data": {
            "text/plain": [
              "<Figure size 640x480 with 1 Axes>"
            ],
            "image/png": "[encoded data removed]"
          },
          "metadata": {}
        }
      ]
    },
    {
      "cell_type": "code",
      "source": [],
      "metadata": {
        "id": "wyvvWdVFVtyj"
      },
      "execution_count": 38,
      "outputs": []
    },
    {
      "cell_type": "code",
      "source": [],
      "metadata": {
        "id": "REB5MeEJVtpj"
      },
      "execution_count": null,
      "outputs": []
    },
    {
      "cell_type": "code",
      "source": [],
      "metadata": {
        "id": "wkCyp_BPVtlz"
      },
      "execution_count": null,
      "outputs": []
    },
    {
      "cell_type": "code",
      "source": [],
      "metadata": {
        "id": "wkcb1ltIVthC"
      },
      "execution_count": null,
      "outputs": []
    },
    {
      "cell_type": "code",
      "source": [],
      "metadata": {
        "id": "avHM-BqnVteO"
      },
      "execution_count": null,
      "outputs": []
    }
  ]
}